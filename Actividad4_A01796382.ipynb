{
  "cells": [
    {
      "cell_type": "markdown",
      "source": [
        "#**Maestría en Inteligencia Artificial Aplicada**\n",
        "##**Curso: Big Data**\n",
        "###Tecnológico de Monterrey\n",
        "###Prof Iván Olmos Pineda\n",
        "\n",
        "### **Actividad de la Semana 8**\n",
        "###**Métricas de calidad de resultados**"
      ],
      "metadata": {
        "id": "VFj0sSM06dYa"
      },
      "id": "VFj0sSM06dYa"
    },
    {
      "cell_type": "markdown",
      "source": [
        "**Nombre y matrícula:**\n",
        "\n",
        "*   César Armando Prieto Siller\n",
        "*   A01796382\n"
      ],
      "metadata": {
        "id": "Qgrvy0RGB9XI"
      },
      "id": "Qgrvy0RGB9XI"
    },
    {
      "cell_type": "markdown",
      "source": [
        "# **Selección de los datos**"
      ],
      "metadata": {
        "id": "ZtMwBPYllOsO"
      },
      "id": "ZtMwBPYllOsO"
    },
    {
      "cell_type": "markdown",
      "source": [
        "## **Descripción de la Base de datos**\n",
        "\n",
        "Base de datos seleccionada: IBM Transactions for Anti-Money Laundering (AML), versión LI-Medium\n",
        "\n",
        "La base de datos está compuesta por aproximadamente 31 millones de transacciones, contiene una menor proporción de casos positivos de lavado de dinero respecto a las otras versiones.\n",
        "\n",
        "Se cuenta con información como: momento de la transacción, bancos y cuentas involucradas, montos ($) y monedas, formato y si la transacción se considera o no lavado de dinero."
      ],
      "metadata": {
        "id": "9DHR_qmaTWQw"
      },
      "id": "9DHR_qmaTWQw"
    },
    {
      "cell_type": "markdown",
      "source": [
        "## **Descripción de las reglas de particionamiento**\n",
        "\n",
        "Variables de caracterización seleccionadas: Payment Currency y Payment Format.\n",
        "\n",
        "Agrupación previa al particionamiento:\n",
        "Payment Format:\n",
        "* Online: ACH, Credit Card, Wire y Bitcoin\n",
        "* Offline: Cheque, Cash y Reinvestment\n",
        "\n",
        "Payment Currency:\n",
        "* America: MXN, USD, BRL y CAD\n",
        "* Others: se excluyen las monedas antes listadas\n",
        "\n",
        "Reglas:\n",
        "* *Part 1*: Payment Format = Online & Payment Currency = America\n",
        "* *Part 2*: Payment Format = Online & Payment Currency = Others\n",
        "* *Part 3*: Payment Format = Offline & Payment Currency = America\n",
        "* *Part 4*: Payment Format = Offline & Payment Currency = Others"
      ],
      "metadata": {
        "id": "HVaTS2JYUInl"
      },
      "id": "HVaTS2JYUInl"
    },
    {
      "cell_type": "markdown",
      "source": [
        "## **Cargando el entorno de PySpark en Google Colab**"
      ],
      "metadata": {
        "id": "4sJd8dqFlZPJ"
      },
      "id": "4sJd8dqFlZPJ"
    },
    {
      "cell_type": "code",
      "source": [
        "!apt-get install openjdk-8-jdk-headless -qq > /dev/null\n",
        "!wget -q http://archive.apache.org/dist/spark/spark-3.1.1/spark-3.1.1-bin-hadoop3.2.tgz\n",
        "!tar xf spark-3.1.1-bin-hadoop3.2.tgz\n",
        "!pip install -q findspark"
      ],
      "metadata": {
        "id": "rScao98Dw63J"
      },
      "id": "rScao98Dw63J",
      "execution_count": 2,
      "outputs": []
    },
    {
      "cell_type": "code",
      "source": [
        "import os\n",
        "os.environ[\"JAVA_HOME\"] = \"/usr/lib/jvm/java-8-openjdk-amd64\"\n",
        "os.environ[\"SPARK_HOME\"] = \"/content/spark-3.1.1-bin-hadoop3.2\""
      ],
      "metadata": {
        "id": "NNrwXuwTw-Ai"
      },
      "id": "NNrwXuwTw-Ai",
      "execution_count": 3,
      "outputs": []
    },
    {
      "cell_type": "code",
      "source": [
        "!ls"
      ],
      "metadata": {
        "id": "dLEuWf3ixBKy",
        "colab": {
          "base_uri": "https://localhost:8080/"
        },
        "outputId": "38687be6-3b8e-49c4-ef48-19594665462b"
      },
      "id": "dLEuWf3ixBKy",
      "execution_count": 27,
      "outputs": [
        {
          "output_type": "stream",
          "name": "stdout",
          "text": [
            "drive\t     spark-3.1.1-bin-hadoop3.2\t    spark-3.1.1-bin-hadoop3.2.tgz.1\n",
            "sample_data  spark-3.1.1-bin-hadoop3.2.tgz\n"
          ]
        }
      ]
    },
    {
      "cell_type": "code",
      "source": [
        "import findspark\n",
        "findspark.init()\n",
        "from pyspark import SparkContext, SparkConf, SQLContext\n",
        "from pyspark.sql import SparkSession\n",
        "\n",
        "#spark = SparkSession.builder.master(\"local[*]\").getOrCreate()\n",
        "spark = SparkSession.builder \\\n",
        "                    .master(\"local[*]\") \\\n",
        "                    .appName(\"Actividad4\") \\\n",
        "                    .config(\"spark.driver.memory\", \"8g\") \\\n",
        "                    .getOrCreate()\n",
        "spark.conf.set(\"spark.sql.repl.eagerEval.enabled\", True)\n",
        "spark\n",
        "spark"
      ],
      "metadata": {
        "id": "nbPLgGPyxI57",
        "colab": {
          "base_uri": "https://localhost:8080/",
          "height": 219
        },
        "outputId": "9e01294d-dffc-40dc-e179-9e22ed8dbeae"
      },
      "id": "nbPLgGPyxI57",
      "execution_count": 4,
      "outputs": [
        {
          "output_type": "execute_result",
          "data": {
            "text/plain": [
              "<pyspark.sql.session.SparkSession at 0x7c77b8239cd0>"
            ],
            "text/html": [
              "\n",
              "            <div>\n",
              "                <p><b>SparkSession - in-memory</b></p>\n",
              "                \n",
              "        <div>\n",
              "            <p><b>SparkContext</b></p>\n",
              "\n",
              "            <p><a href=\"http://7e08fbf1e9d8:4040\">Spark UI</a></p>\n",
              "\n",
              "            <dl>\n",
              "              <dt>Version</dt>\n",
              "                <dd><code>v3.1.1</code></dd>\n",
              "              <dt>Master</dt>\n",
              "                <dd><code>local[*]</code></dd>\n",
              "              <dt>AppName</dt>\n",
              "                <dd><code>Actividad4</code></dd>\n",
              "            </dl>\n",
              "        </div>\n",
              "        \n",
              "            </div>\n",
              "        "
            ]
          },
          "metadata": {},
          "execution_count": 4
        }
      ]
    },
    {
      "cell_type": "code",
      "source": [
        "from google.colab import drive\n",
        "drive.mount('/content/drive')\n"
      ],
      "metadata": {
        "colab": {
          "base_uri": "https://localhost:8080/"
        },
        "id": "byEirDuN4TqM",
        "outputId": "40ad2987-8351-4dea-b8ef-81a438c02473"
      },
      "id": "byEirDuN4TqM",
      "execution_count": 5,
      "outputs": [
        {
          "output_type": "stream",
          "name": "stdout",
          "text": [
            "Mounted at /content/drive\n"
          ]
        }
      ]
    },
    {
      "cell_type": "code",
      "source": [
        "import numpy as np\n",
        "import pandas as pd\n",
        "from pyspark.sql.functions import count, when, isnan, col\n",
        "import matplotlib.pyplot as plt\n",
        "import seaborn as sns\n",
        "from pyspark.sql.functions import mean, stddev, min, max\n",
        "\n",
        "from pyspark.ml.feature import StandardScaler, OneHotEncoder, StringIndexer, VectorAssembler\n",
        "from pyspark.ml import Pipeline\n",
        "from pyspark.ml.classification import LogisticRegression\n",
        "from pyspark.ml.evaluation import BinaryClassificationEvaluator, MulticlassClassificationEvaluator\n",
        "from pyspark.ml.evaluation import ClusteringEvaluator\n",
        "from pyspark.ml.clustering import KMeans\n",
        "from pyspark.ml.tuning import ParamGridBuilder, CrossValidator"
      ],
      "metadata": {
        "id": "qntD8WzCZF_C"
      },
      "id": "qntD8WzCZF_C",
      "execution_count": 6,
      "outputs": []
    },
    {
      "cell_type": "code",
      "source": [
        "df = spark.read.csv(\"/content/drive/MyDrive/Colab Notebooks/MNA/TC4034.10 Big Data/Tareas/S3/LI-Medium_Trans.csv\",\n",
        "                    header=True, sep=\",\", inferSchema=True)"
      ],
      "metadata": {
        "id": "pn-tVaVm4guL"
      },
      "id": "pn-tVaVm4guL",
      "execution_count": 7,
      "outputs": []
    },
    {
      "cell_type": "markdown",
      "source": [
        "# **1. Construcción de la muestra M**"
      ],
      "metadata": {
        "id": "G1pVsjx2cMDO"
      },
      "id": "G1pVsjx2cMDO"
    },
    {
      "cell_type": "code",
      "source": [
        "Payment_Format_Online = [\"ACH\",\"Credit Card\",\"Wire\",\"Bitcoin\"]\n",
        "Payment_Format_Offline = [\"Cheque\",\"Cash\",\"Reinvestment\"]\n",
        "\n",
        "Payment_Currency_America = [\"Mexican Peso\", \"US Dollar\", \"Brazil Real\", \"Canadian Dollar\"]\n",
        "Payment_Currency_Others = [\"Yen\", \"UK Pound\", \"Australian Dollar\",\"Saudi Riyal\", \"Shekel\",\"Yuan\",\"Euro\",\"Rupee\",\"Swiss Franc\",\"Bitcoin\",\"Ruble\"]"
      ],
      "metadata": {
        "id": "p_zaePnhUMlY"
      },
      "id": "p_zaePnhUMlY",
      "execution_count": 8,
      "outputs": []
    },
    {
      "cell_type": "code",
      "source": [
        "from pyspark.sql.functions import col\n",
        "\n",
        "# Payment Format = Online y Payment Currency = America\n",
        "part_1 = df.filter((col(\"Payment Format\").isin(Payment_Format_Online)) & (col(\"Payment Currency\").isin(Payment_Currency_America)))\n",
        "print(\"Partición 1: Online y America\")\n",
        "part_1.show()\n",
        "\n",
        "# Payment Format = Online y Payment Currency = Others\n",
        "part_2 = df.filter((col(\"Payment Format\").isin(Payment_Format_Online)) & (col(\"Payment Currency\").isin(Payment_Currency_Others)))\n",
        "print(\"Partición 2: Online y Resto del Mundo\")\n",
        "part_2.show()\n",
        "\n",
        "# Payment Format = Offline y Payment Currency = America\n",
        "part_3 = df.filter((col(\"Payment Format\").isin(Payment_Format_Offline)) & (col(\"Payment Currency\").isin(Payment_Currency_America)))\n",
        "print(\"Partición 3: Offline y America\")\n",
        "part_3.show()\n",
        "\n",
        "# Payment Format = Offline y Payment Currency = Others\n",
        "part_4 = df.filter((col(\"Payment Format\").isin(Payment_Format_Offline)) & (col(\"Payment Currency\").isin(Payment_Currency_Others)))\n",
        "print(\"Partición 4: Offline y Resto del Mundo\")\n",
        "part_4.show()\n",
        "\n",
        "\n",
        "# Verificación de Submuestras\n",
        "count_part_1 = part_1.count()\n",
        "print(f\"Número de filas en part_1: {count_part_1}\")\n",
        "\n",
        "count_part_2 = part_2.count()\n",
        "print(f\"Número de filas en part_2: {count_part_2}\")\n",
        "\n",
        "count_part_3 = part_3.count()\n",
        "print(f\"Número de filas en part_3: {count_part_3}\")\n",
        "\n",
        "count_part_4 = part_4.count()\n",
        "print(f\"Número de filas en part_4: {count_part_4}\")"
      ],
      "metadata": {
        "colab": {
          "base_uri": "https://localhost:8080/"
        },
        "id": "w4bApcQRVbvH",
        "outputId": "b397a628-c4b6-42b8-806d-c35395175c01"
      },
      "id": "w4bApcQRVbvH",
      "execution_count": 9,
      "outputs": [
        {
          "output_type": "stream",
          "name": "stdout",
          "text": [
            "Partición 1: Online y America\n",
            "+----------------+---------+---------+-------+---------+---------------+------------------+-----------+----------------+--------------+-------------+\n",
            "|       Timestamp|From Bank| Account2|To Bank| Account4|Amount Received|Receiving Currency|Amount Paid|Payment Currency|Payment Format|Is Laundering|\n",
            "+----------------+---------+---------+-------+---------+---------------+------------------+-----------+----------------+--------------+-------------+\n",
            "|2022/09/01 00:15|       20|80010E6F0|  27365|8084250A0|         137.72|         US Dollar|     137.72|       US Dollar|   Credit Card|            0|\n",
            "|2022/09/01 00:05|       20|80010EA30|  18234|82BC4CE30|           1.24|         US Dollar|       1.24|       US Dollar|   Credit Card|            0|\n",
            "|2022/09/01 00:21|       11|8003289F0| 237264|810BA3240|           5.28|         US Dollar|       5.28|       US Dollar|   Credit Card|            0|\n",
            "|2022/09/01 00:11|     2776|800816450|1190218|8486D8D10|          13.21|         US Dollar|      13.21|       US Dollar|   Credit Card|            0|\n",
            "|2022/09/01 00:26|     1601|800970C80|  26669|80EE08950|         133.98|         US Dollar|     133.98|       US Dollar|   Credit Card|            0|\n",
            "|2022/09/01 00:07|      544|8009B23E0|  87354|82023B780|         285.04|         US Dollar|     285.04|       US Dollar|   Credit Card|            0|\n",
            "|2022/09/01 00:21|     2597|8009B3400|    214|800A60590|      113415.06|         US Dollar|  113415.06|       US Dollar|           ACH|            0|\n",
            "|2022/09/01 00:01|     2597|8009B3400|   2597|800AD14F0|      1250260.0|         US Dollar|  1250260.0|       US Dollar|           ACH|            0|\n",
            "|2022/09/01 00:11|        0|800074AD0|     20|800A5C310|        53675.0|         US Dollar|    53675.0|       US Dollar|           ACH|            0|\n",
            "|2022/09/01 00:01|    11032|8009B3F30|  16100|8037BA980|        1690.66|         US Dollar|    1690.66|       US Dollar|   Credit Card|            0|\n",
            "|2022/09/01 00:15|        0|8009B6D70|  15558|821313F60|           9.73|         US Dollar|       9.73|       US Dollar|   Credit Card|            0|\n",
            "|2022/09/01 00:20|      741|800A5B6C0|  28101|810843F70|           0.73|         US Dollar|       0.73|       US Dollar|   Credit Card|            0|\n",
            "|2022/09/01 00:01|     1831|800A5DFB0|  16100|8037BA980|           5.16|         US Dollar|       5.16|       US Dollar|   Credit Card|            0|\n",
            "|2022/09/01 00:17|      214|800A60590| 262922|8213140A0|           3.84|         US Dollar|       3.84|       US Dollar|   Credit Card|            0|\n",
            "|2022/09/01 00:20|      741|800A61EF0|  16100|8037BA980|           6.97|         US Dollar|       6.97|       US Dollar|   Credit Card|            0|\n",
            "|2022/09/01 00:15|     2597|800AD14F0| 149163|820BEAB20|          36.77|         US Dollar|      36.77|       US Dollar|   Credit Card|            0|\n",
            "|2022/09/01 00:29|    11032|800AD4220|2119275|82FF68320|          113.9|         US Dollar|      113.9|       US Dollar|   Credit Card|            0|\n",
            "|2022/09/01 00:22|     1924|800AD4270|  74878|82A13A190|          93.62|         US Dollar|      93.62|       US Dollar|   Credit Card|            0|\n",
            "|2022/09/01 00:17|     2597|800AD7B20|  69927|8262FF610|          22.51|         US Dollar|      22.51|       US Dollar|   Credit Card|            0|\n",
            "|2022/09/01 00:19|     1924|800AD8140|  17200|83F5A3DD0|         250.23|         US Dollar|     250.23|       US Dollar|   Credit Card|            0|\n",
            "+----------------+---------+---------+-------+---------+---------------+------------------+-----------+----------------+--------------+-------------+\n",
            "only showing top 20 rows\n",
            "\n",
            "Partición 2: Online y Resto del Mundo\n",
            "+----------------+---------+---------+-------+---------+---------------+------------------+-----------+----------------+--------------+-------------+\n",
            "|       Timestamp|From Bank| Account2|To Bank| Account4|Amount Received|Receiving Currency|Amount Paid|Payment Currency|Payment Format|Is Laundering|\n",
            "+----------------+---------+---------+-------+---------+---------------+------------------+-----------+----------------+--------------+-------------+\n",
            "|2022/09/01 00:11|    27669|8043475E0| 119043|824C90D30|           5.82|              Euro|       5.82|            Euro|   Credit Card|            0|\n",
            "|2022/09/01 00:03|     3504|800492D00|   3504|800492D00|        6707.83|         US Dollar|    5724.46|            Euro|           ACH|            0|\n",
            "|2022/09/01 00:24|        0|80048E6D0|  31011|81FC22C90|         108.27|              Euro|     108.27|            Euro|   Credit Card|            0|\n",
            "|2022/09/01 00:05|        0|8006CC220|  28407|80C36E110|            8.9|              Euro|        8.9|            Euro|   Credit Card|            0|\n",
            "|2022/09/01 00:25|     1601|800F66E21|   2589|801352771|       0.150633|           Bitcoin|   0.150633|         Bitcoin|       Bitcoin|            0|\n",
            "|2022/09/01 00:22|    22147|801360080|  24105|81DB5AD80|          19.94|              Euro|      19.94|            Euro|   Credit Card|            0|\n",
            "|2022/09/01 00:10|      544|80093B3E1|   1046|8013BCE31|        0.11009|           Bitcoin|    0.11009|         Bitcoin|       Bitcoin|            0|\n",
            "|2022/09/01 00:00|      214|800FB3911|   1208|801765CF1|       0.516403|           Bitcoin|   0.516403|         Bitcoin|       Bitcoin|            0|\n",
            "|2022/09/01 00:23|    22118|801236541|   2258|8018A80A1|       0.041271|           Bitcoin|   0.041271|         Bitcoin|       Bitcoin|            0|\n",
            "|2022/09/01 00:29|     1313|80205F020|   3904|809AE85B0|          66.61|              Euro|      66.61|            Euro|   Credit Card|            0|\n",
            "|2022/09/01 00:06|     1831|800590571|  22456|80219AAC1|       0.661956|           Bitcoin|   0.661956|         Bitcoin|       Bitcoin|            0|\n",
            "|2022/09/01 00:00|      741|802328C00| 291782|84F17CEA0|           2.41|          UK Pound|       2.41|        UK Pound|   Credit Card|            0|\n",
            "|2022/09/01 00:28|    11081|802845ED0|  80152|82AAE9180|           2.54|              Euro|       2.54|            Euro|   Credit Card|            0|\n",
            "|2022/09/01 00:10|    25817|80287B5A0|   9864|805AB6D60|           2.04|              Euro|       2.04|            Euro|   Credit Card|            0|\n",
            "|2022/09/01 00:04|    36450|8029ED680|  36450|8029ED680|           0.01|         US Dollar|       0.08|            Yuan|           ACH|            0|\n",
            "|2022/09/01 00:20|     5866|802C519B1|     20|8036B4991|       1.928567|           Bitcoin|   1.928567|         Bitcoin|       Bitcoin|            0|\n",
            "|2022/09/01 00:03|    15920|80371B820|  24985|805942F00|          10.19|              Euro|      10.19|            Euro|   Credit Card|            0|\n",
            "|2022/09/01 00:16|     3358|8023FD4A1|  17211|8032B38C1|        7.92809|           Bitcoin|    7.92809|         Bitcoin|       Bitcoin|            0|\n",
            "|2022/09/01 00:23|    14527|803F26520| 264490|84F9DD980|          39.52|              Euro|      39.52|            Euro|   Credit Card|            0|\n",
            "|2022/09/01 00:06|    18328|8041E5C70| 292826|82BCBA740|          35.21|              Euro|      35.21|            Euro|   Credit Card|            0|\n",
            "+----------------+---------+---------+-------+---------+---------------+------------------+-----------+----------------+--------------+-------------+\n",
            "only showing top 20 rows\n",
            "\n",
            "Partición 3: Offline y America\n",
            "+----------------+---------+---------+-------+---------+---------------+------------------+-----------+----------------+--------------+-------------+\n",
            "|       Timestamp|From Bank| Account2|To Bank| Account4|Amount Received|Receiving Currency|Amount Paid|Payment Currency|Payment Format|Is Laundering|\n",
            "+----------------+---------+---------+-------+---------+---------------+------------------+-----------+----------------+--------------+-------------+\n",
            "|2022/09/01 00:15|       20|800104D70|     20|800104D70|        8095.07|         US Dollar|    8095.07|       US Dollar|  Reinvestment|            0|\n",
            "|2022/09/01 00:18|     3196|800107150|   3196|800107150|        7739.29|         US Dollar|    7739.29|       US Dollar|  Reinvestment|            0|\n",
            "|2022/09/01 00:23|     1208|80010E430|   1208|80010E430|        2654.22|         US Dollar|    2654.22|       US Dollar|  Reinvestment|            0|\n",
            "|2022/09/01 00:19|     3203|80010EA80|   3203|80010EA80|       13284.41|         US Dollar|   13284.41|       US Dollar|  Reinvestment|            0|\n",
            "|2022/09/01 00:27|       20|800104D20|     20|800104D20|           9.72|         US Dollar|       9.72|       US Dollar|  Reinvestment|            0|\n",
            "|2022/09/01 00:29|       20|800104D70|     20|800104D70|           5.38|         US Dollar|       5.38|       US Dollar|  Reinvestment|            0|\n",
            "|2022/09/01 00:08|     1208|80010E430|   1208|80010E430|           7.66|         US Dollar|       7.66|       US Dollar|  Reinvestment|            0|\n",
            "|2022/09/01 00:29|       11|80010E600|     11|80010E600|          16.33|         US Dollar|      16.33|       US Dollar|  Reinvestment|            0|\n",
            "|2022/09/01 00:23|     1208|80010E650|   1208|80010E650|           4.86|         US Dollar|       4.86|       US Dollar|  Reinvestment|            0|\n",
            "|2022/09/01 00:20|       20|800073020|     20|800073020|      848901.78|         US Dollar|  848901.78|       US Dollar|  Reinvestment|            0|\n",
            "|2022/09/01 00:02|     3566|800345920|   3566|800345920|       10134.05|         US Dollar|   10134.05|       US Dollar|  Reinvestment|            0|\n",
            "|2022/09/01 00:25|       11|800329930|   2776|800816450|      2602616.0|         US Dollar|  2602616.0|       US Dollar|        Cheque|            0|\n",
            "|2022/09/01 00:27|        0|8009B22F0|      0|8009B22F0|        3236.71|         US Dollar|    3236.71|       US Dollar|  Reinvestment|            0|\n",
            "|2022/09/01 00:29|       11|800329930|     11|800329930|          23.39|         US Dollar|      23.39|       US Dollar|  Reinvestment|            0|\n",
            "|2022/09/01 00:18|        0|800815DE0|      0|800815DE0|          19.97|         US Dollar|      19.97|       US Dollar|  Reinvestment|            0|\n",
            "|2022/09/01 00:24|    11081|8008DDDF0|  11081|8008DDDF0|          13.87|         US Dollar|      13.87|       US Dollar|  Reinvestment|            0|\n",
            "|2022/09/01 00:25|        0|8009B22F0|      0|8009B22F0|           7.37|         US Dollar|       7.37|       US Dollar|  Reinvestment|            0|\n",
            "|2022/09/01 00:19|     2597|8009B3400|   2597|8009B3400|     2585330.06|         US Dollar| 2585330.06|       US Dollar|  Reinvestment|            0|\n",
            "|2022/09/01 00:11|     3911|8009B3D60|   3911|8009B3D60|        7448.87|         US Dollar|    7448.87|       US Dollar|  Reinvestment|            0|\n",
            "|2022/09/01 00:22|     1924|8009B6B00|   1924|8009B6B00|        1704.89|         US Dollar|    1704.89|       US Dollar|  Reinvestment|            0|\n",
            "+----------------+---------+---------+-------+---------+---------------+------------------+-----------+----------------+--------------+-------------+\n",
            "only showing top 20 rows\n",
            "\n",
            "Partición 4: Offline y Resto del Mundo\n",
            "+----------------+---------+---------+-------+---------+---------------+------------------+-----------+----------------+--------------+-------------+\n",
            "|       Timestamp|From Bank| Account2|To Bank| Account4|Amount Received|Receiving Currency|Amount Paid|Payment Currency|Payment Format|Is Laundering|\n",
            "+----------------+---------+---------+-------+---------+---------------+------------------+-----------+----------------+--------------+-------------+\n",
            "|2022/09/01 00:21|    33605|80251F890|  33605|80251F890|      131510.97|              Yuan|  131510.97|            Yuan|  Reinvestment|            0|\n",
            "|2022/09/01 00:08|    38143|8033F1BD0|  38143|8033F1BD0|         5126.2|              Euro|     5126.2|            Euro|  Reinvestment|            0|\n",
            "|2022/09/01 00:21|    38143|803760F60|  38143|803760F60|        1874.04|              Euro|    1874.04|            Euro|  Reinvestment|            0|\n",
            "|2022/09/01 00:01|    31134|80479AC80|  31134|80479AC80|       11933.37|              Yuan|   11933.37|            Yuan|  Reinvestment|            0|\n",
            "|2022/09/01 00:07|    36214|807585840|  36214|807585840|       37746.85|              Yuan|   37746.85|            Yuan|  Reinvestment|            0|\n",
            "|2022/09/01 00:24|   321356|80903E450| 321356|80903E450|      2240363.4|               Yen|  2240363.4|             Yen|  Reinvestment|            0|\n",
            "|2022/09/01 00:03|   324690|809C52A50| 324690|809C52A50|         206.37|              Euro|     206.37|            Euro|  Reinvestment|            0|\n",
            "|2022/09/01 00:08|    38994|80A184B50|  38994|80A184B50|        29117.1|              Yuan|    29117.1|            Yuan|  Reinvestment|            0|\n",
            "|2022/09/01 00:28|   310139|80B8316F0| 310139|80B8316F0|       10541.54|              Yuan|   10541.54|            Yuan|  Reinvestment|            0|\n",
            "|2022/09/01 00:02|   324913|80BCA4BB0| 324913|80BCA4BB0|        5908.75|              Euro|    5908.75|            Euro|  Reinvestment|            0|\n",
            "|2022/09/01 00:16|   315584|80BF72770| 315584|80BF72770|       74960.91|               Yen|   74960.91|             Yen|  Reinvestment|            0|\n",
            "|2022/09/01 00:04|   333518|80C9EFB50| 333518|80C9EFB50|      865580.57|               Yen|  865580.57|             Yen|  Reinvestment|            0|\n",
            "|2022/09/01 00:11|    38780|80D0EABF0|  38780|80D0EABF0|      244283.85|               Yen|  244283.85|             Yen|  Reinvestment|            0|\n",
            "|2022/09/01 00:24|   327072|80D0FC510| 327072|80D0FC510|        10888.0|              Yuan|    10888.0|            Yuan|  Reinvestment|            0|\n",
            "|2022/09/01 00:01|   336048|80E294BE0| 336048|80E294BE0|       12124.46|              Yuan|   12124.46|            Yuan|  Reinvestment|            0|\n",
            "|2022/09/01 00:12|   327152|80E49FA40| 327152|80E49FA40|      153460.14|               Yen|  153460.14|             Yen|  Reinvestment|            0|\n",
            "|2022/09/01 00:09|   335745|80E7D8E80| 335745|80E7D8E80|        9719.59|              Yuan|    9719.59|            Yuan|  Reinvestment|            0|\n",
            "|2022/09/01 00:23|   333223|80DD4A460| 333223|80DD4A460|      388019.48|               Yen|  388019.48|             Yen|  Reinvestment|            0|\n",
            "|2022/09/01 00:18|   332799|80F600830| 332799|80F600830|       12384.93|              Euro|   12384.93|            Euro|  Reinvestment|            0|\n",
            "|2022/09/01 00:01|   343558|8109A96A0| 343558|8109A96A0|        30278.1|             Rupee|    30278.1|           Rupee|  Reinvestment|            0|\n",
            "+----------------+---------+---------+-------+---------+---------------+------------------+-----------+----------------+--------------+-------------+\n",
            "only showing top 20 rows\n",
            "\n",
            "Número de filas en part_1: 6377082\n",
            "Número de filas en part_2: 7749862\n",
            "Número de filas en part_3: 8060266\n",
            "Número de filas en part_4: 9064273\n"
          ]
        }
      ]
    },
    {
      "cell_type": "markdown",
      "source": [
        "## **Submuestreo**"
      ],
      "metadata": {
        "id": "Lsxhx4iKcSB5"
      },
      "id": "Lsxhx4iKcSB5"
    },
    {
      "cell_type": "code",
      "source": [
        "from pyspark.sql.functions import rand\n",
        "\n",
        "fraccion_de_muestra = 0.2\n",
        "\n",
        "# 'False' = el muestreo se realiza sin reemplazo.\n",
        "submuestra_M1 = part_1.sample(False, fraccion_de_muestra, seed=123)  # seed para reproducibilidad\n",
        "\n",
        "submuestra_M1.show()\n",
        "\n",
        "tamaño_submuestra_1 = submuestra_M1.count()\n",
        "print(\"Tamaño de la submuestra para Online y America:\", tamaño_submuestra_1)"
      ],
      "metadata": {
        "colab": {
          "base_uri": "https://localhost:8080/"
        },
        "id": "slGanenHDMtH",
        "outputId": "c9415542-7553-466f-9370-198a1e9dcdbb"
      },
      "id": "slGanenHDMtH",
      "execution_count": 10,
      "outputs": [
        {
          "output_type": "stream",
          "name": "stdout",
          "text": [
            "+----------------+---------+---------+-------+---------+---------------+------------------+-----------+----------------+--------------+-------------+\n",
            "|       Timestamp|From Bank| Account2|To Bank| Account4|Amount Received|Receiving Currency|Amount Paid|Payment Currency|Payment Format|Is Laundering|\n",
            "+----------------+---------+---------+-------+---------+---------------+------------------+-----------+----------------+--------------+-------------+\n",
            "|2022/09/01 00:15|       20|80010E6F0|  27365|8084250A0|         137.72|         US Dollar|     137.72|       US Dollar|   Credit Card|            0|\n",
            "|2022/09/01 00:26|     1601|800970C80|  26669|80EE08950|         133.98|         US Dollar|     133.98|       US Dollar|   Credit Card|            0|\n",
            "|2022/09/01 00:19|     1924|800AD8140|  17200|83F5A3DD0|         250.23|         US Dollar|     250.23|       US Dollar|   Credit Card|            0|\n",
            "|2022/09/01 00:01|      741|800ADCDB0| 234135|80FA463E0|           7.64|         US Dollar|       7.64|       US Dollar|   Credit Card|            0|\n",
            "|2022/09/01 00:15|      214|800B0D150|    214|80CC255C0|           8.16|         US Dollar|       8.16|       US Dollar|   Credit Card|            0|\n",
            "|2022/09/01 00:26|      214|800B19870| 234135|80FA463E0|           34.3|         US Dollar|       34.3|       US Dollar|   Credit Card|            0|\n",
            "|2022/09/01 00:07|     1208|800B263F0|  11304|8085649E0|          19.09|         US Dollar|      19.09|       US Dollar|   Credit Card|            0|\n",
            "|2022/09/01 00:20|     1046|800B26940| 138196|8484AC400|         155.95|         US Dollar|     155.95|       US Dollar|   Credit Card|            0|\n",
            "|2022/09/01 00:26|     2597|801137120| 111247|80D1AB5B0|           1.28|         US Dollar|       1.28|       US Dollar|   Credit Card|            0|\n",
            "|2022/09/01 00:06|     2597|802110A10| 228901|842504B30|           2.57|         US Dollar|       2.57|       US Dollar|   Credit Card|            0|\n",
            "|2022/09/01 00:02|     1315|802140F90|  11304|809788DD0|          80.41|         US Dollar|      80.41|       US Dollar|   Credit Card|            0|\n",
            "|2022/09/01 00:09|    12545|802140FE0| 199893|831B5A290|          19.33|         US Dollar|      19.33|       US Dollar|   Credit Card|            0|\n",
            "|2022/09/01 00:19|    15126|8029456A0|   2695|8493C1F80|          26.72|         US Dollar|      26.72|       US Dollar|   Credit Card|            0|\n",
            "|2022/09/01 00:16|    15126|80294DC20|2133058|84E925E90|           3.47|         US Dollar|       3.47|       US Dollar|   Credit Card|            0|\n",
            "|2022/09/01 00:09|     2865|8030775D0| 160087|81ED9CCB0|           77.3|         US Dollar|       77.3|       US Dollar|   Credit Card|            0|\n",
            "|2022/09/01 00:22|     2776|8030D8BD0| 217225|81277D840|          38.25|         US Dollar|      38.25|       US Dollar|   Credit Card|            0|\n",
            "|2022/09/01 00:09|     5893|8036B9F00|  23527|803693A50|         1912.2|         US Dollar|     1912.2|       US Dollar|           ACH|            0|\n",
            "|2022/09/01 00:04|     2208|80314B460| 226661|82C938310|           5.63|         US Dollar|       5.63|       US Dollar|   Credit Card|            0|\n",
            "|2022/09/01 00:17|    23527|803693A50| 111247|811B0E300|          74.27|         US Dollar|      74.27|       US Dollar|   Credit Card|            0|\n",
            "|2022/09/01 00:16|     4928|803695C40| 210957|815B8A860|          19.58|         US Dollar|      19.58|       US Dollar|   Credit Card|            0|\n",
            "+----------------+---------+---------+-------+---------+---------------+------------------+-----------+----------------+--------------+-------------+\n",
            "only showing top 20 rows\n",
            "\n",
            "Tamaño de la submuestra para Online y America: 1276450\n"
          ]
        }
      ]
    },
    {
      "cell_type": "code",
      "source": [
        "submuestra_M2 = part_2.sample(False, fraccion_de_muestra, seed=123)\n",
        "submuestra_M2.show()\n",
        "tamaño_submuestra_2 = submuestra_M2.count()\n",
        "print(\"Tamaño de la submuestra para Online y Resto del Mundo:\", tamaño_submuestra_2)"
      ],
      "metadata": {
        "colab": {
          "base_uri": "https://localhost:8080/"
        },
        "id": "kBodba_vEb9L",
        "outputId": "025b9cad-4c06-44ac-cdef-84a4e6d4e508"
      },
      "id": "kBodba_vEb9L",
      "execution_count": 11,
      "outputs": [
        {
          "output_type": "stream",
          "name": "stdout",
          "text": [
            "+----------------+---------+---------+-------+---------+---------------+------------------+--------------+----------------+--------------+-------------+\n",
            "|       Timestamp|From Bank| Account2|To Bank| Account4|Amount Received|Receiving Currency|   Amount Paid|Payment Currency|Payment Format|Is Laundering|\n",
            "+----------------+---------+---------+-------+---------+---------------+------------------+--------------+----------------+--------------+-------------+\n",
            "|2022/09/01 00:11|    27669|8043475E0| 119043|824C90D30|           5.82|              Euro|          5.82|            Euro|   Credit Card|            0|\n",
            "|2022/09/01 00:25|     1601|800F66E21|   2589|801352771|       0.150633|           Bitcoin|      0.150633|         Bitcoin|       Bitcoin|            0|\n",
            "|2022/09/01 00:06|    18328|8041E5C70| 292826|82BCBA740|          35.21|              Euro|         35.21|            Euro|   Credit Card|            0|\n",
            "|2022/09/01 00:14|     1831|8011ED901| 113503|805B64B21|       3.425702|           Bitcoin|      3.425702|         Bitcoin|       Bitcoin|            0|\n",
            "|2022/09/01 00:29|    15066|8043E3B60|  15066|8043E3B60| 2.5728001425E8|         US Dollar|2.1956276416E8|            Euro|           ACH|            0|\n",
            "|2022/09/01 00:16|    11874|8012F22D0|  11874|8012F22D0|       25504.72|         US Dollar|      21765.72|            Euro|           ACH|            0|\n",
            "|2022/09/01 00:24|    11054|801B32390|  11054|801B32390|       43552.45|         US Dollar|      37167.66|            Euro|           ACH|            0|\n",
            "|2022/09/01 00:24|    11054|801B32390|  11054|801B32390|        1901.03|         US Dollar|       1622.34|            Euro|           ACH|            0|\n",
            "|2022/09/01 00:12|     6766|80378AED0|   6766|80378AED0|        8257.04|         US Dollar|       7046.56|            Euro|           ACH|            0|\n",
            "|2022/09/01 00:11|     2609|8008296D0|   2609|8008296D0|       25684.19|         US Dollar|      21918.89|            Euro|           ACH|            0|\n",
            "|2022/09/01 00:11|     7295|80576D530|   7295|80576D530|       96060.63|         US Dollar|      81978.14|            Euro|           ACH|            0|\n",
            "|2022/09/01 00:23|     7295|80576D530|   7295|80576D530|       25228.15|         US Dollar|      21529.71|            Euro|           ACH|            0|\n",
            "|2022/09/01 00:27|   220436|807BA45B0|  75542|81BBBD3D0|       29275.78|             Ruble|      29275.78|           Ruble|   Credit Card|            0|\n",
            "|2022/09/01 00:15|    13932|8039482E0| 222355|80B0EE8E0|           9.34|              Euro|          9.34|            Euro|   Credit Card|            0|\n",
            "|2022/09/01 00:11|     2835|805BD9B00|   2835|805BD9B00|          128.2|         US Dollar|         109.4|            Euro|           ACH|            0|\n",
            "|2022/09/01 00:17|    19700|8086D20F0|  23300|808D6C040|         218.29|              Euro|        218.29|            Euro|   Credit Card|            0|\n",
            "|2022/09/01 00:07|    21217|80196AFA0|  21217|80196AFA0|        10858.8|         US Dollar|        9266.9|            Euro|           ACH|            0|\n",
            "|2022/09/01 00:03|     3613|8046F4840|   3613|8046F4840|        3291.97|         US Dollar|       2809.37|            Euro|           ACH|            0|\n",
            "|2022/09/01 00:10|      718|802094D41|   1831|808D031F1|       0.365206|           Bitcoin|      0.365206|         Bitcoin|       Bitcoin|            0|\n",
            "|2022/09/01 00:16|     3497|801791B70|   3497|801791B70|        3709.19|         US Dollar|       3165.43|            Euro|           ACH|            0|\n",
            "+----------------+---------+---------+-------+---------+---------------+------------------+--------------+----------------+--------------+-------------+\n",
            "only showing top 20 rows\n",
            "\n",
            "Tamaño de la submuestra para Online y Resto del Mundo: 1551198\n"
          ]
        }
      ]
    },
    {
      "cell_type": "code",
      "source": [
        "submuestra_M3 = part_3.sample(False, fraccion_de_muestra, seed=123)\n",
        "submuestra_M3.show()\n",
        "tamaño_submuestra_3 = submuestra_M3.count()\n",
        "print(\"Tamaño de la submuestra para Offline y America:\", tamaño_submuestra_3)"
      ],
      "metadata": {
        "colab": {
          "base_uri": "https://localhost:8080/"
        },
        "id": "onez-tKyMYKa",
        "outputId": "ab8aa8c4-42e6-47ce-89d6-31bdc69d6b7d"
      },
      "id": "onez-tKyMYKa",
      "execution_count": 12,
      "outputs": [
        {
          "output_type": "stream",
          "name": "stdout",
          "text": [
            "+----------------+---------+---------+-------+---------+---------------+------------------+-----------+----------------+--------------+-------------+\n",
            "|       Timestamp|From Bank| Account2|To Bank| Account4|Amount Received|Receiving Currency|Amount Paid|Payment Currency|Payment Format|Is Laundering|\n",
            "+----------------+---------+---------+-------+---------+---------------+------------------+-----------+----------------+--------------+-------------+\n",
            "|2022/09/01 00:15|       20|800104D70|     20|800104D70|        8095.07|         US Dollar|    8095.07|       US Dollar|  Reinvestment|            0|\n",
            "|2022/09/01 00:27|       20|800104D20|     20|800104D20|           9.72|         US Dollar|       9.72|       US Dollar|  Reinvestment|            0|\n",
            "|2022/09/01 00:22|     1924|8009B6B00|   1924|8009B6B00|        1704.89|         US Dollar|    1704.89|       US Dollar|  Reinvestment|            0|\n",
            "|2022/09/01 00:22|       20|800AD58D0|     20|800AD58D0|     1573418.17|         US Dollar| 1573418.17|       US Dollar|  Reinvestment|            0|\n",
            "|2022/09/01 00:12|    11032|800B0CE90|  11032|800B0CE90|       25867.78|         US Dollar|   25867.78|       US Dollar|  Reinvestment|            0|\n",
            "|2022/09/01 00:14|     1601|800B09D80|    544|800B0D060|         4708.0|         US Dollar|     4708.0|       US Dollar|        Cheque|            0|\n",
            "|2022/09/01 00:24|     1818|800B08420|   1818|800B08420|          23.73|         US Dollar|      23.73|       US Dollar|  Reinvestment|            0|\n",
            "|2022/09/01 00:04|      214|800B09F50|    214|800B09F50|           10.6|         US Dollar|       10.6|       US Dollar|  Reinvestment|            0|\n",
            "|2022/09/01 00:03|     1601|80112E800|   1601|80112E800|        3955.35|         US Dollar|    3955.35|       US Dollar|  Reinvestment|            0|\n",
            "|2022/09/01 00:25|     1894|801761B00|   1894|801761B00|          22.79|         US Dollar|      22.79|       US Dollar|  Reinvestment|            0|\n",
            "|2022/09/01 00:07|     2208|8017CF720|   2208|8017CF720|          10.89|         US Dollar|      10.89|       US Dollar|  Reinvestment|            0|\n",
            "|2022/09/01 00:22|    15181|802103220|  15181|802103220|      264023.09|         US Dollar|  264023.09|       US Dollar|  Reinvestment|            0|\n",
            "|2022/09/01 00:13|      867|8021E6170|  12545|802140FE0|        38045.0|         US Dollar|    38045.0|       US Dollar|        Cheque|            0|\n",
            "|2022/09/01 00:19|    13011|8021E4D20|   2942|8021E53A0|        5029.08|         US Dollar|    5029.08|       US Dollar|        Cheque|            0|\n",
            "|2022/09/01 00:02|    15181|80294D710|  22217|802949050|       182690.0|         US Dollar|   182690.0|       US Dollar|        Cheque|            0|\n",
            "|2022/09/01 00:07|     6019|80294CE90|  15126|80294DC20|       112197.0|         US Dollar|   112197.0|       US Dollar|        Cheque|            0|\n",
            "|2022/09/01 00:20|      214|80294CF30|    214|80294CF30|           6.46|         US Dollar|       6.46|       US Dollar|  Reinvestment|            0|\n",
            "|2022/09/01 00:00|     5866|8030D39B0|    718|8030C7860|         2627.0|         US Dollar|     2627.0|       US Dollar|        Cheque|            0|\n",
            "|2022/09/01 00:12|     5990|8030CD680|   5990|8030CD680|        3693.92|         US Dollar|    3693.92|       US Dollar|  Reinvestment|            0|\n",
            "|2022/09/01 00:17|    26833|8030CD6D0|  27669|8030DE760|      163198.29|         US Dollar|  163198.29|       US Dollar|        Cheque|            0|\n",
            "+----------------+---------+---------+-------+---------+---------------+------------------+-----------+----------------+--------------+-------------+\n",
            "only showing top 20 rows\n",
            "\n",
            "Tamaño de la submuestra para Offline y America: 1612566\n"
          ]
        }
      ]
    },
    {
      "cell_type": "code",
      "source": [
        "submuestra_M4 = part_4.sample(False, fraccion_de_muestra, seed=123)\n",
        "submuestra_M4.show()\n",
        "tamaño_submuestra_4 = submuestra_M4.count()\n",
        "print(\"Tamaño de la submuestra para Offline y Resto del Mundo:\", tamaño_submuestra_4)"
      ],
      "metadata": {
        "colab": {
          "base_uri": "https://localhost:8080/"
        },
        "id": "oHq2PLCwMvxg",
        "outputId": "e64d3217-6132-449c-ecee-63233b36dd57"
      },
      "id": "oHq2PLCwMvxg",
      "execution_count": 13,
      "outputs": [
        {
          "output_type": "stream",
          "name": "stdout",
          "text": [
            "+----------------+---------+---------+-------+---------+---------------+------------------+-----------+-----------------+--------------+-------------+\n",
            "|       Timestamp|From Bank| Account2|To Bank| Account4|Amount Received|Receiving Currency|Amount Paid| Payment Currency|Payment Format|Is Laundering|\n",
            "+----------------+---------+---------+-------+---------+---------------+------------------+-----------+-----------------+--------------+-------------+\n",
            "|2022/09/01 00:21|    33605|80251F890|  33605|80251F890|      131510.97|              Yuan|  131510.97|             Yuan|  Reinvestment|            0|\n",
            "|2022/09/01 00:07|    36214|807585840|  36214|807585840|       37746.85|              Yuan|   37746.85|             Yuan|  Reinvestment|            0|\n",
            "|2022/09/01 00:01|   343558|8109A96A0| 343558|8109A96A0|        30278.1|             Rupee|    30278.1|            Rupee|  Reinvestment|            0|\n",
            "|2022/09/01 00:22|   316869|815DFF590| 316869|815DFF590|         351.67|              Euro|     351.67|             Euro|  Reinvestment|            0|\n",
            "|2022/09/01 00:05|   336222|81A432E80| 336222|81A432E80|        5361.39|              Yuan|    5361.39|             Yuan|  Reinvestment|            0|\n",
            "|2022/09/01 00:11|   321867|81AD16620| 321867|81AD16620|        7245.61|              Euro|    7245.61|             Euro|  Reinvestment|            0|\n",
            "|2022/09/01 00:04|   372000|81C2FF640| 372000|81C2FF640|      254613.47|             Rupee|  254613.47|            Rupee|  Reinvestment|            0|\n",
            "|2022/09/01 00:00|   378459|81E11C380| 378459|81E11C380|        1695.58|          UK Pound|    1695.58|         UK Pound|  Reinvestment|            0|\n",
            "|2022/09/01 00:24|   391959|8220327E0| 391959|8220327E0|       10711.02|          UK Pound|   10711.02|         UK Pound|  Reinvestment|            0|\n",
            "|2022/09/01 00:11|   347071|8267736A0| 347071|8267736A0|     1662127.12|               Yen| 1662127.12|              Yen|  Reinvestment|            0|\n",
            "|2022/09/01 00:07|   393348|827285CA0| 393348|827285CA0|        1754.91|          UK Pound|    1754.91|         UK Pound|  Reinvestment|            0|\n",
            "|2022/09/01 00:27|  3108508|827F3F320|3108508|827F3F320|         122.69| Australian Dollar|     122.69|Australian Dollar|  Reinvestment|            0|\n",
            "|2022/09/01 00:05|   398505|82A11FB40| 398505|82A11FB40|         658.79|          UK Pound|     658.79|         UK Pound|  Reinvestment|            0|\n",
            "|2022/09/01 00:13|  3107666|80948C510|3107666|80948C510|       15930.12|              Euro|   15930.12|             Euro|  Reinvestment|            0|\n",
            "|2022/09/01 00:25|   355665|82BC73020| 355665|82BC73020|      440756.44|             Rupee|  440756.44|            Rupee|  Reinvestment|            0|\n",
            "|2022/09/01 00:16|  3117039|82CE87EE0|3117039|82CE87EE0|         941.77| Australian Dollar|     941.77|Australian Dollar|  Reinvestment|            0|\n",
            "|2022/09/01 00:26|   360907|82D84AE00| 360907|82D84AE00|       20523.69|             Rupee|   20523.69|            Rupee|  Reinvestment|            0|\n",
            "|2022/09/01 00:26|   372517|82E7EE560| 372517|82E7EE560|      585517.45|             Rupee|  585517.45|            Rupee|  Reinvestment|            0|\n",
            "|2022/09/01 00:24|   388920|82F0EDF70| 388920|82F0EDF70|       411155.0|             Ruble|   411155.0|            Ruble|  Reinvestment|            0|\n",
            "|2022/09/01 00:10|   363846|8311980B0| 363846|8311980B0|     1517058.24|               Yen| 1517058.24|              Yen|  Reinvestment|            0|\n",
            "+----------------+---------+---------+-------+---------+---------------+------------------+-----------+-----------------+--------------+-------------+\n",
            "only showing top 20 rows\n",
            "\n",
            "Tamaño de la submuestra para Offline y Resto del Mundo: 1813685\n"
          ]
        }
      ]
    },
    {
      "cell_type": "markdown",
      "source": [
        "## **Preparación de los datos**\n"
      ],
      "metadata": {
        "id": "5W-EZss7IFqI"
      },
      "id": "5W-EZss7IFqI"
    },
    {
      "source": [
        "# Unificar las submuestras\n",
        "muestra_combinada_M = submuestra_M1.union(submuestra_M2).union(submuestra_M3).union(submuestra_M4)\n",
        "\n",
        "print(\"Esquema de la muestra combinada:\")\n",
        "muestra_combinada_M.printSchema()\n",
        "\n",
        "print(\"Primeras filas de la muestra combinada:\")\n",
        "muestra_combinada_M.show(5)\n",
        "\n",
        "# Identificación de valores nulos\n",
        "print(\"Conteo de valores nulos por columna:\")\n",
        "muestra_combinada_M.select([count(when(col(c).isNull(), c)).alias(c) for c in muestra_combinada_M.columns]).show()\n",
        "\n",
        "\n",
        "# Identificación de valores atípicos (outliers)\n",
        "print(\"Estadísticas descriptivas para columnas numéricas:\")\n",
        "muestra_combinada_M.select(\"Amount Paid\").summary().show()\n",
        "muestra_combinada_M.select(\"Payment Currency\").summary().show()\n",
        "\n",
        "\n"
      ],
      "cell_type": "code",
      "metadata": {
        "colab": {
          "base_uri": "https://localhost:8080/"
        },
        "id": "_3vjatyHJhGF",
        "outputId": "1c7a0692-314f-4d37-b1a8-ef8e8a563b00"
      },
      "id": "_3vjatyHJhGF",
      "execution_count": 14,
      "outputs": [
        {
          "output_type": "stream",
          "name": "stdout",
          "text": [
            "Esquema de la muestra combinada:\n",
            "root\n",
            " |-- Timestamp: string (nullable = true)\n",
            " |-- From Bank: integer (nullable = true)\n",
            " |-- Account2: string (nullable = true)\n",
            " |-- To Bank: integer (nullable = true)\n",
            " |-- Account4: string (nullable = true)\n",
            " |-- Amount Received: double (nullable = true)\n",
            " |-- Receiving Currency: string (nullable = true)\n",
            " |-- Amount Paid: double (nullable = true)\n",
            " |-- Payment Currency: string (nullable = true)\n",
            " |-- Payment Format: string (nullable = true)\n",
            " |-- Is Laundering: integer (nullable = true)\n",
            "\n",
            "Primeras filas de la muestra combinada:\n",
            "+----------------+---------+---------+-------+---------+---------------+------------------+-----------+----------------+--------------+-------------+\n",
            "|       Timestamp|From Bank| Account2|To Bank| Account4|Amount Received|Receiving Currency|Amount Paid|Payment Currency|Payment Format|Is Laundering|\n",
            "+----------------+---------+---------+-------+---------+---------------+------------------+-----------+----------------+--------------+-------------+\n",
            "|2022/09/01 00:15|       20|80010E6F0|  27365|8084250A0|         137.72|         US Dollar|     137.72|       US Dollar|   Credit Card|            0|\n",
            "|2022/09/01 00:26|     1601|800970C80|  26669|80EE08950|         133.98|         US Dollar|     133.98|       US Dollar|   Credit Card|            0|\n",
            "|2022/09/01 00:19|     1924|800AD8140|  17200|83F5A3DD0|         250.23|         US Dollar|     250.23|       US Dollar|   Credit Card|            0|\n",
            "|2022/09/01 00:01|      741|800ADCDB0| 234135|80FA463E0|           7.64|         US Dollar|       7.64|       US Dollar|   Credit Card|            0|\n",
            "|2022/09/01 00:15|      214|800B0D150|    214|80CC255C0|           8.16|         US Dollar|       8.16|       US Dollar|   Credit Card|            0|\n",
            "+----------------+---------+---------+-------+---------+---------------+------------------+-----------+----------------+--------------+-------------+\n",
            "only showing top 5 rows\n",
            "\n",
            "Conteo de valores nulos por columna:\n",
            "+---------+---------+--------+-------+--------+---------------+------------------+-----------+----------------+--------------+-------------+\n",
            "|Timestamp|From Bank|Account2|To Bank|Account4|Amount Received|Receiving Currency|Amount Paid|Payment Currency|Payment Format|Is Laundering|\n",
            "+---------+---------+--------+-------+--------+---------------+------------------+-----------+----------------+--------------+-------------+\n",
            "|        0|        0|       0|      0|       0|              0|                 0|          0|               0|             0|            0|\n",
            "+---------+---------+--------+-------+--------+---------------+------------------+-----------+----------------+--------------+-------------+\n",
            "\n",
            "Estadísticas descriptivas para columnas numéricas:\n",
            "+-------+-------------------+\n",
            "|summary|        Amount Paid|\n",
            "+-------+-------------------+\n",
            "|  count|            6253899|\n",
            "|   mean|  5078622.925540679|\n",
            "| stddev|1.219300960060919E9|\n",
            "|    min|             1.0E-6|\n",
            "|    25%|             205.28|\n",
            "|    50%|            1454.14|\n",
            "|    75%|           11915.24|\n",
            "|    max|1.56510418001058E12|\n",
            "+-------+-------------------+\n",
            "\n",
            "+-------+-----------------+\n",
            "|summary| Payment Currency|\n",
            "+-------+-----------------+\n",
            "|  count|          6253899|\n",
            "|   mean|             null|\n",
            "| stddev|             null|\n",
            "|    min|Australian Dollar|\n",
            "|    25%|             null|\n",
            "|    50%|             null|\n",
            "|    75%|             null|\n",
            "|    max|             Yuan|\n",
            "+-------+-----------------+\n",
            "\n"
          ]
        }
      ]
    },
    {
      "cell_type": "markdown",
      "source": [
        "Con el código anterior podemos darnos cuenta de que no hay valores nulos en el dataset, lo que hace sentido ya que es una colección de registros bancarios.\n",
        "Existen muchos valores atípicos para la columna de \"Amount Paid\", por lo que se realizará escalamiento en el preprocesamiento."
      ],
      "metadata": {
        "id": "Sog7MPjrVJ2c"
      },
      "id": "Sog7MPjrVJ2c"
    },
    {
      "source": [
        "# Obtener el número de filas y columnas en muestra_combinada\n",
        "filas_muestra_combinada = muestra_combinada_M.count()\n",
        "cols_muestra_combinada = len(muestra_combinada_M.columns)\n",
        "\n",
        "column_names = muestra_combinada_M.columns\n",
        "print(f\"El tamaño de muestra_combinada es: {filas_muestra_combinada}\")\n",
        "print(f\"El número de columnas en muestra_combinada es: {cols_muestra_combinada}\")\n",
        "print(\"Nombres de las columnas:\")\n",
        "for col_name in column_names:\n",
        "    print(col_name)"
      ],
      "cell_type": "code",
      "metadata": {
        "colab": {
          "base_uri": "https://localhost:8080/"
        },
        "id": "THH5QD59hV0P",
        "outputId": "a6e427b5-38b8-4255-b0ce-8ec46293841e"
      },
      "id": "THH5QD59hV0P",
      "execution_count": 15,
      "outputs": [
        {
          "output_type": "stream",
          "name": "stdout",
          "text": [
            "El tamaño de muestra_combinada es: 6253899\n",
            "El número de columnas en muestra_combinada es: 11\n",
            "Nombres de las columnas:\n",
            "Timestamp\n",
            "From Bank\n",
            "Account2\n",
            "To Bank\n",
            "Account4\n",
            "Amount Received\n",
            "Receiving Currency\n",
            "Amount Paid\n",
            "Payment Currency\n",
            "Payment Format\n",
            "Is Laundering\n"
          ]
        }
      ]
    },
    {
      "source": [
        "# Pasos de preprocesamiento\n",
        "# Se escala \"Amount Paid\" utilizando primero VectorAssembler para vectorizar la columna y después StandardScaler,\n",
        "# utilizando la desviación estándar\n",
        "assembler_amount = VectorAssembler(inputCols=[\"Amount Paid\"], outputCol=\"amount_vector\")\n",
        "scaler = StandardScaler(inputCol=\"amount_vector\", outputCol=\"scaled_amount\", withStd=True, withMean=False)\n",
        "\n",
        "# Se codifican \"Payment Currency\" y \"Payment Format\" con One Hot Encoding ya que son variables categóricas\n",
        "# Primero se utiliza StringIndexer para convertir las categorías en índices numéricos.\n",
        "indexer_currency = StringIndexer(inputCol=\"Payment Currency\", outputCol=\"currency_index\")\n",
        "indexer_format = StringIndexer(inputCol=\"Payment Format\", outputCol=\"format_index\")\n",
        "# Después, se aplica el OneHotEncoder para convertir los índices en vectores codificados\n",
        "encoder_currency = OneHotEncoder(inputCol=\"currency_index\", outputCol=\"currency_encoded\")\n",
        "encoder_format = OneHotEncoder(inputCol=\"format_index\", outputCol=\"format_encoded\")\n",
        "\n",
        "\n",
        "# Se combinan todas las características en un solo vector, como lo requieren los algoritmos de PySpark\n",
        "\n",
        "feature_assembler = VectorAssembler(\n",
        "    inputCols=[\"scaled_amount\", \"currency_encoded\", \"format_encoded\"],\n",
        "    outputCol=\"features_final\"\n",
        ")\n",
        "\n",
        "# Se crea el Pipeline que incluirá todos los pasos de transformación definidos previamente.\n",
        "preprocessing_pipeline = Pipeline(stages=[\n",
        "    assembler_amount,\n",
        "    scaler,\n",
        "    indexer_currency,\n",
        "    indexer_format,\n",
        "    encoder_currency,\n",
        "    encoder_format,\n",
        "    feature_assembler\n",
        "])\n",
        "\n",
        "# Se utiliza el pipeline para entrenar y transformar los datos\n",
        "pipeline_model = preprocessing_pipeline.fit(muestra_combinada_M)\n",
        "\n",
        "muestra_combinada_processed = pipeline_model.transform(muestra_combinada_M)\n",
        "\n",
        "\n",
        "# Revisamos el esquema con las columnas incluidas, así como las primeras líneas del DataFrame\n",
        "print(\"Schema of the processed DataFrame:\")\n",
        "muestra_combinada_processed.printSchema()\n",
        "\n",
        "print(\"First 5 rows of the processed DataFrame:\")\n",
        "muestra_combinada_processed.select(\"Amount Paid\", \"scaled_amount\", \"Payment Currency\", \"currency_index\", \"currency_encoded\", \"Payment Format\", \"format_index\", \"format_encoded\", \"features_final\", \"Is Laundering\").show(5, truncate=False)\n"
      ],
      "cell_type": "code",
      "metadata": {
        "colab": {
          "base_uri": "https://localhost:8080/"
        },
        "id": "s1dIxYsHjKfh",
        "outputId": "42d13498-aa84-4757-a51d-e8e1ef146cc1"
      },
      "id": "s1dIxYsHjKfh",
      "execution_count": 16,
      "outputs": [
        {
          "output_type": "stream",
          "name": "stdout",
          "text": [
            "Schema of the processed DataFrame:\n",
            "root\n",
            " |-- Timestamp: string (nullable = true)\n",
            " |-- From Bank: integer (nullable = true)\n",
            " |-- Account2: string (nullable = true)\n",
            " |-- To Bank: integer (nullable = true)\n",
            " |-- Account4: string (nullable = true)\n",
            " |-- Amount Received: double (nullable = true)\n",
            " |-- Receiving Currency: string (nullable = true)\n",
            " |-- Amount Paid: double (nullable = true)\n",
            " |-- Payment Currency: string (nullable = true)\n",
            " |-- Payment Format: string (nullable = true)\n",
            " |-- Is Laundering: integer (nullable = true)\n",
            " |-- amount_vector: vector (nullable = true)\n",
            " |-- scaled_amount: vector (nullable = true)\n",
            " |-- currency_index: double (nullable = false)\n",
            " |-- format_index: double (nullable = false)\n",
            " |-- currency_encoded: vector (nullable = true)\n",
            " |-- format_encoded: vector (nullable = true)\n",
            " |-- features_final: vector (nullable = true)\n",
            "\n",
            "First 5 rows of the processed DataFrame:\n",
            "+-----------+-----------------------+----------------+--------------+----------------+--------------+------------+--------------+---------------------------------------------+-------------+\n",
            "|Amount Paid|scaled_amount          |Payment Currency|currency_index|currency_encoded|Payment Format|format_index|format_encoded|features_final                               |Is Laundering|\n",
            "+-----------+-----------------------+----------------+--------------+----------------+--------------+------------+--------------+---------------------------------------------+-------------+\n",
            "|137.72     |[1.1294996437394689E-7]|US Dollar       |0.0           |(14,[0],[1.0])  |Credit Card   |1.0         |(6,[1],[1.0]) |(21,[0,1,16],[1.1294996437394689E-7,1.0,1.0])|0            |\n",
            "|133.98     |[1.0988263307305695E-7]|US Dollar       |0.0           |(14,[0],[1.0])  |Credit Card   |1.0         |(6,[1],[1.0]) |(21,[0,1,16],[1.0988263307305695E-7,1.0,1.0])|0            |\n",
            "|250.23     |[2.0522414743895388E-7]|US Dollar       |0.0           |(14,[0],[1.0])  |Credit Card   |1.0         |(6,[1],[1.0]) |(21,[0,1,16],[2.0522414743895388E-7,1.0,1.0])|0            |\n",
            "|7.64       |[6.2658853312297E-9]   |US Dollar       |0.0           |(14,[0],[1.0])  |Credit Card   |1.0         |(6,[1],[1.0]) |(21,[0,1,16],[6.2658853312297E-9,1.0,1.0])   |0            |\n",
            "|8.16       |[6.692359201941669E-9] |US Dollar       |0.0           |(14,[0],[1.0])  |Credit Card   |1.0         |(6,[1],[1.0]) |(21,[0,1,16],[6.692359201941669E-9,1.0,1.0]) |0            |\n",
            "+-----------+-----------------------+----------------+--------------+----------------+--------------+------------+--------------+---------------------------------------------+-------------+\n",
            "only showing top 5 rows\n",
            "\n"
          ]
        }
      ]
    },
    {
      "cell_type": "markdown",
      "source": [
        "# **2. Construcción Train – Test**"
      ],
      "metadata": {
        "id": "JHqeYED2KW0N"
      },
      "id": "JHqeYED2KW0N"
    },
    {
      "cell_type": "code",
      "source": [
        "# Después del preprocesamiento, se realiza la división de entrenamiento y prueba\n",
        "# Se agrega la semilla para asegurar repetibilidad\n",
        "\n",
        "training_ratio = 0.8\n",
        "testing_ratio = 1 - training_ratio\n",
        "train_data_processed, test_data_processed = muestra_combinada_processed.randomSplit([training_ratio, testing_ratio], seed=42)"
      ],
      "metadata": {
        "id": "FQJcadNYHPtQ"
      },
      "id": "FQJcadNYHPtQ",
      "execution_count": 17,
      "outputs": []
    },
    {
      "cell_type": "code",
      "source": [
        "# Se revisa la cantidad de renglones y columnas de cada conjunto de datos\n",
        "print(f\"Número de filas en el conjunto de entrenamiento: {train_data_processed.count()}\")\n",
        "print(f\"Número de filas en el conjunto de prueba: {test_data_processed.count()}\")\n",
        "print(f\"Número de columnas en el conjunto de entrenamiento: {len(train_data_processed.columns)}\")\n",
        "print(f\"Número de columnas en el conjunto de prueba: {len(test_data_processed.columns)}\")\n",
        "\n",
        "\n"
      ],
      "metadata": {
        "colab": {
          "base_uri": "https://localhost:8080/"
        },
        "id": "2EeMxZbZYgH3",
        "outputId": "ddc7a93d-fb61-41b0-bf14-1bcc9b045f34"
      },
      "id": "2EeMxZbZYgH3",
      "execution_count": 41,
      "outputs": [
        {
          "output_type": "stream",
          "name": "stdout",
          "text": [
            "Número de filas en el conjunto de entrenamiento: 5002442\n",
            "Número de filas en el conjunto de prueba: 1251457\n",
            "Número de columnas en el conjunto de entrenamiento: 18\n",
            "Número de columnas en el conjunto de prueba: 18\n"
          ]
        }
      ]
    },
    {
      "cell_type": "markdown",
      "source": [
        "# **3. Selección de métricas para medir calidad de resultado**"
      ],
      "metadata": {
        "id": "GbHSafRj1orO"
      },
      "id": "GbHSafRj1orO"
    },
    {
      "cell_type": "markdown",
      "source": [
        "Métricas para el modelo de regresión logística:\n",
        "\n",
        "*   Recall (Sensibilidad): Establece la relación entre los datos\n",
        "verdaderamente positivos y los datos positivos totales. Para el tema de detección de lavado de dinero, un alto recall es importante para minimizar los falsos negativos (transacciones de lavado de dinero que el modelo no detectó). VP/(VP+FN)\n",
        "*   Precisión: Establece la relación entre los datos verdaderamente positivos y el total de datos clasificados como positivos. Un alta precisión indica que cuando el modelo predice que una transacción es lavado de dinero, es muy probable que lo sea. Es importante equilibrar Precision y Recall, especialmente en casos de desbalance. VP(VP+FP)\n",
        "*   F1-Score: Es la media armónica de Precision y Recall. Proporciona un equilibrio entre ambas métricas y es útil cuando buscas un balance entre identificar todos los positivos posibles y no tener demasiados falsos positivos.\n",
        "*   Matriz de Confusión: Es la tabla que  muestra la cantidad de Verdaderos Positivos (TP), Verdaderos Negativos (TN), Falsos Positivos (FP) y Falsos Negativos (FN). Esto nos ayudará a ver  dónde está fallando el modelo .\n",
        "*   Área bajo la curva Precision-Recall. es una excelente elección para conjuntos de datos desbalanceados. Se enfoca en el rendimiento del modelo en la clase positiva (la clase minoritaria - lavado de dinero). Un área bajo la curva PR alta indica que el modelo es capaz de identificar correctamente los casos positivos sin generar demasiados falsos positivos.\n"
      ],
      "metadata": {
        "id": "Jf3AWwfci6Pb"
      },
      "id": "Jf3AWwfci6Pb"
    },
    {
      "cell_type": "markdown",
      "source": [
        "Métricas para el modelo de K-Means:\n",
        "\n",
        "*   Coeficiente de Silhouette: Se utiliza para evaluar la calidad de los clusters. Mide qué tan similar es un objeto a su propio cluster (cohesión) en comparación con otros clusters (separación). Un valor cercano a 1 indica que el objeto está bien agrupado, un valor cercano a 0 indica que está cerca del límite entre dos clusters, y un valor negativo indica que el objeto podría estar en el cluster equivocado. Un score promedio de Silhouette más alto indica un mejor clustering.\n",
        "\n",
        "*   Within-Cluster Sum of Squares (WCSS) (\"trainingCost\" en PySpark):\n",
        "Mide la suma de los cuadrados de las distancias de cada punto a su centroide dentro de cada cluster. Un menor WCSS generalmente indica clusters más compactos. Se puede usar WCSS para determinar el número óptimo de clusters.\n"
      ],
      "metadata": {
        "id": "xnRLESY1lIyl"
      },
      "id": "xnRLESY1lIyl"
    },
    {
      "cell_type": "markdown",
      "source": [],
      "metadata": {
        "id": "hfFkg1LR3GyU"
      },
      "id": "hfFkg1LR3GyU"
    },
    {
      "cell_type": "markdown",
      "source": [
        "# **4. Entrenamiento de Modelos de Aprendizaje**\n"
      ],
      "metadata": {
        "id": "89ddJuXWKg7T"
      },
      "id": "89ddJuXWKg7T"
    },
    {
      "cell_type": "code",
      "source": [
        "# Se definen los modelos a utilizar y se entrena utilizando los conjuntos de datos del paso anterior\n",
        "# Se elige regresión logística porque la variable a predecir es categórica\n",
        "\n",
        "target_col= \"Is Laundering\"\n",
        "\n",
        "lr = LogisticRegression(labelCol=target_col, featuresCol=\"features_final\")\n",
        "lr_model = lr.fit(train_data_processed)\n",
        "predictions = lr_model.transform(test_data_processed)\n"
      ],
      "metadata": {
        "id": "szr1obUJoGHQ"
      },
      "id": "szr1obUJoGHQ",
      "execution_count": 18,
      "outputs": []
    },
    {
      "source": [
        "# Se crea una cuadrícula de hiperparámetros para probar\n",
        "paramGrid = ParamGridBuilder() \\\n",
        "    .addGrid(lr.regParam, [0.01, 0.1]) \\\n",
        "    .addGrid(lr.elasticNetParam, [0.0, 0.5]) \\\n",
        "    .addGrid(lr.maxIter, [10, 20]) \\\n",
        "    .build()\n",
        "\n",
        "# Se elige la máetrica de area bajo la curva PR para evaluar los parámetros\n",
        "evaluator = BinaryClassificationEvaluator(labelCol=target_col, rawPredictionCol=\"rawPrediction\", metricName=\"areaUnderPR\")\n",
        "\n",
        "# Configura CrossValidator\n",
        "cv = CrossValidator(estimator=lr,\n",
        "                    estimatorParamMaps=paramGrid,\n",
        "                    evaluator=evaluator,\n",
        "                    numFolds=5) # Define el número de folds para validación cruzada\n",
        "\n",
        "# Ejecuta la validación cruzada para encontrar el mejor modelo\n",
        "cvModel = cv.fit(train_data_processed)\n",
        "\n",
        "# Obtén el mejor modelo\n",
        "best_lr_model = cvModel.bestModel\n",
        "\n",
        "# Ahora puedes usar best_lr_model para hacer predicciones en el conjunto de prueba\n",
        "predictions = best_lr_model.transform(test_data_processed)\n",
        "\n",
        "# Evalúa el mejor modelo\n",
        "areaUnderPR_best = evaluator.evaluate(predictions)\n",
        "print(f\"Mejor Área bajo la curva PR: {areaUnderPR_best}\")"
      ],
      "cell_type": "code",
      "metadata": {
        "colab": {
          "base_uri": "https://localhost:8080/"
        },
        "id": "1MgZGMKunwIy",
        "outputId": "e5feddb2-e8a2-4325-b3ae-32f0f71910d4"
      },
      "id": "1MgZGMKunwIy",
      "execution_count": 19,
      "outputs": [
        {
          "output_type": "stream",
          "name": "stdout",
          "text": [
            "Mejor Área bajo la curva PR: 0.003098651787642625\n"
          ]
        }
      ]
    },
    {
      "cell_type": "code",
      "source": [
        "# Impresión del mejor modelo\n",
        "print(best_lr_model)\n",
        "print(best_lr_model.extractParamMap())"
      ],
      "metadata": {
        "colab": {
          "base_uri": "https://localhost:8080/"
        },
        "id": "YD9z4m80HjuQ",
        "outputId": "ad29ee91-3ce8-405c-e747-8f953e591e98"
      },
      "id": "YD9z4m80HjuQ",
      "execution_count": 20,
      "outputs": [
        {
          "output_type": "stream",
          "name": "stdout",
          "text": [
            "LogisticRegressionModel: uid=LogisticRegression_ba6395d765db, numClasses=2, numFeatures=21\n",
            "{Param(parent='LogisticRegression_ba6395d765db', name='aggregationDepth', doc='suggested depth for treeAggregate (>= 2).'): 2, Param(parent='LogisticRegression_ba6395d765db', name='elasticNetParam', doc='the ElasticNet mixing parameter, in range [0, 1]. For alpha = 0, the penalty is an L2 penalty. For alpha = 1, it is an L1 penalty.'): 0.0, Param(parent='LogisticRegression_ba6395d765db', name='family', doc='The name of family which is a description of the label distribution to be used in the model. Supported options: auto, binomial, multinomial'): 'auto', Param(parent='LogisticRegression_ba6395d765db', name='featuresCol', doc='features column name.'): 'features_final', Param(parent='LogisticRegression_ba6395d765db', name='fitIntercept', doc='whether to fit an intercept term.'): True, Param(parent='LogisticRegression_ba6395d765db', name='labelCol', doc='label column name.'): 'Is Laundering', Param(parent='LogisticRegression_ba6395d765db', name='maxBlockSizeInMB', doc='maximum memory in MB for stacking input data into blocks. Data is stacked within partitions. If more than remaining data size in a partition then it is adjusted to the data size. Default 0.0 represents choosing optimal value, depends on specific algorithm. Must be >= 0.'): 0.0, Param(parent='LogisticRegression_ba6395d765db', name='maxIter', doc='max number of iterations (>= 0).'): 20, Param(parent='LogisticRegression_ba6395d765db', name='predictionCol', doc='prediction column name.'): 'prediction', Param(parent='LogisticRegression_ba6395d765db', name='probabilityCol', doc='Column name for predicted class conditional probabilities. Note: Not all models output well-calibrated probability estimates! These probabilities should be treated as confidences, not precise probabilities.'): 'probability', Param(parent='LogisticRegression_ba6395d765db', name='rawPredictionCol', doc='raw prediction (a.k.a. confidence) column name.'): 'rawPrediction', Param(parent='LogisticRegression_ba6395d765db', name='regParam', doc='regularization parameter (>= 0).'): 0.01, Param(parent='LogisticRegression_ba6395d765db', name='standardization', doc='whether to standardize the training features before fitting the model.'): True, Param(parent='LogisticRegression_ba6395d765db', name='threshold', doc='Threshold in binary classification prediction, in range [0, 1]. If threshold and thresholds are both set, they must match.e.g. if threshold is p, then thresholds must be equal to [1-p, p].'): 0.5, Param(parent='LogisticRegression_ba6395d765db', name='tol', doc='the convergence tolerance for iterative algorithms (>= 0).'): 1e-06}\n"
          ]
        }
      ]
    },
    {
      "cell_type": "code",
      "source": [
        "# Se muestran las predicciones realizadas incluyendo las columnas agregadas\n",
        "predictions.select(\"features_final\", \"Is Laundering\", \"rawPrediction\",\n",
        "                   \"prediction\", \"probability\").show(5)\n"
      ],
      "metadata": {
        "colab": {
          "base_uri": "https://localhost:8080/"
        },
        "id": "2Yt_nor93DYi",
        "outputId": "e6012bf0-124a-4b5d-8fe5-079f68f57e38"
      },
      "id": "2Yt_nor93DYi",
      "execution_count": 44,
      "outputs": [
        {
          "output_type": "stream",
          "name": "stdout",
          "text": [
            "+--------------------+-------------+--------------------+----------+--------------------+\n",
            "|      features_final|Is Laundering|       rawPrediction|prediction|         probability|\n",
            "+--------------------+-------------+--------------------+----------+--------------------+\n",
            "|(21,[0,1,16],[7.9...|            0|[7.59569830219422...|       0.0|[0.99949764362751...|\n",
            "|(21,[0,1,16],[8.2...|            0|[7.59569830220942...|       0.0|[0.99949764362752...|\n",
            "|(21,[0,5,17],[4.2...|            0|[7.56245100079558...|       0.0|[0.99948066970257...|\n",
            "|(21,[0,1,16],[1.5...|            0|[7.59569830188097...|       0.0|[0.99949764362735...|\n",
            "|(21,[0,5,16],[6.5...|            0|[7.59585738492404...|       0.0|[0.99949772349724...|\n",
            "+--------------------+-------------+--------------------+----------+--------------------+\n",
            "only showing top 5 rows\n",
            "\n"
          ]
        }
      ]
    },
    {
      "cell_type": "code",
      "source": [
        "# Se crean evaluadores para revisar las métrica de Área bajo la curva Precision-Recall,\n",
        "# F1-Score y recall\n",
        "evaluator = BinaryClassificationEvaluator(labelCol=target_col, rawPredictionCol=\"rawPrediction\",\n",
        "                                          metricName=\"areaUnderPR\")\n",
        "\n",
        "areaUnderPR = evaluator.evaluate(predictions)\n",
        "\n",
        "f1_score=MulticlassClassificationEvaluator(labelCol=target_col,\n",
        "                                      predictionCol=\"prediction\", metricName=\"f1\").evaluate(predictions)\n",
        "\n",
        "recall=MulticlassClassificationEvaluator(labelCol=target_col,\n",
        "                                      predictionCol=\"prediction\", metricName=\"weightedRecall\").evaluate(predictions)\n",
        "\n",
        "precision=MulticlassClassificationEvaluator(labelCol=target_col,\n",
        "                                      predictionCol=\"prediction\", metricName=\"weightedPrecision\").evaluate(predictions)\n",
        "\n",
        "print(f\"Area bajo la curva PR del modelo de regresión logística: {areaUnderPR}\")\n",
        "print(f\"F1 Score del modelo de regresión logística: {f1_score}\")\n",
        "print(f\"Recall del modelo de regresión logística: {recall}\")\n",
        "print(f\"Precision del modelo de regresión logística: {precision}\")\n",
        "\n"
      ],
      "metadata": {
        "colab": {
          "base_uri": "https://localhost:8080/"
        },
        "id": "_B0fnsqCw6dc",
        "outputId": "a14462b4-13dc-4556-b0fc-5bb6c8581590"
      },
      "id": "_B0fnsqCw6dc",
      "execution_count": 45,
      "outputs": [
        {
          "output_type": "stream",
          "name": "stdout",
          "text": [
            "Area bajo la curva PR del modelo de regresión logística: 0.0030924759496830058\n",
            "F1 Score del modelo de regresión logística: 0.999261721194979\n",
            "Recall del modelo de regresión logística: 0.9995077737389299\n",
            "Precision del modelo de regresión logística: 0.9990157897645519\n"
          ]
        }
      ]
    },
    {
      "cell_type": "code",
      "source": [
        "# Se calculan los verdaderos y falsos, tanto positivos como negativos para formar la Matriz de confusión\n",
        "tp = predictions.filter((predictions['Is Laundering'] == 1) & (predictions['prediction'] == 1)).count()\n",
        "fp = predictions.filter((predictions['Is Laundering'] == 0) & (predictions['prediction'] == 1)).count()\n",
        "tn = predictions.filter((predictions['Is Laundering'] == 0) & (predictions['prediction'] == 0)).count()\n",
        "fn = predictions.filter((predictions['Is Laundering'] == 1) & (predictions['prediction'] == 0)).count()\n",
        "\n",
        "print(f\"Verdaderos Positivos (TP): {tp}\")\n",
        "print(f\"Falsos Positivos (FP): {fp}\")\n",
        "print(f\"Verdaderos Negativos (TN): {tn}\")\n",
        "print(f\"Falsos Negativos (FN): {fn}\")"
      ],
      "metadata": {
        "id": "KZYXWyHaHA9G",
        "colab": {
          "base_uri": "https://localhost:8080/"
        },
        "outputId": "7ff23ae3-15c0-4c26-f312-b62824aaac58"
      },
      "id": "KZYXWyHaHA9G",
      "execution_count": 47,
      "outputs": [
        {
          "output_type": "stream",
          "name": "stdout",
          "text": [
            "Verdaderos Positivos (TP): 0\n",
            "Falsos Positivos (FP): 0\n",
            "Verdaderos Negativos (TN): 1250841\n",
            "Falsos Negativos (FN): 616\n"
          ]
        }
      ]
    },
    {
      "cell_type": "code",
      "source": [
        "# Algoritmo aprendizaje automático no supervisado, K-Means\n",
        "# Se utiliza la métrica WCSS para comparar la distancia de los centroides de cada cluster\n",
        "\n",
        "K = 7\n",
        "kmeans = KMeans().setK(K).setSeed(1).setFeaturesCol(\"features_final\")\n",
        "kmeans_model = kmeans.fit(train_data_processed)\n",
        "predictions_clustering = kmeans_model.transform(train_data_processed)\n",
        "wcss = kmeans_model.summary.trainingCost\n",
        "print(f\"WCSS para el K-means de las características procesadas: {wcss}\")\n",
        "\n",
        "# Métrica Silhouette para evaluar la calidad de los clústers.\n",
        "evaluator_silhouette = ClusteringEvaluator(\n",
        "    featuresCol=\"features_final\",\n",
        "    predictionCol=\"prediction\",\n",
        "    metricName=\"silhouette\" # Especificamos la métrica Silhouette\n",
        ")\n",
        "\n",
        "# Calcula el Coeficiente de Silhouette\n",
        "silhouette_score = evaluator_silhouette.evaluate(predictions_clustering)\n",
        "\n",
        "print(f\"Métrica de Silhouette para K means (K={K}): {silhouette_score}\")\n"
      ],
      "metadata": {
        "colab": {
          "base_uri": "https://localhost:8080/"
        },
        "id": "AYvtD-8q1DH9",
        "outputId": "1e563883-4232-4058-c240-06ad4800789f"
      },
      "id": "AYvtD-8q1DH9",
      "execution_count": 21,
      "outputs": [
        {
          "output_type": "stream",
          "name": "stdout",
          "text": [
            "WCSS para el K-means de las características procesadas: 4811869.499913768\n",
            "Métrica de Silhouette para K means (K=7): 0.3935521674498104\n"
          ]
        }
      ]
    },
    {
      "source": [
        "# Rango de valores de K a probar\n",
        "k_values = range(6,7)\n",
        "\n",
        "# Lista para almacenar los resultados de las métricas\n",
        "silhouette_scores = []\n",
        "wcss_scores = []\n",
        "\n",
        "for k in k_values:\n",
        "    kmeans = KMeans().setK(k).setSeed(1).setFeaturesCol(\"features_final\")\n",
        "    kmeans_model = kmeans.fit(train_data_processed)\n",
        "    predictions_clustering = kmeans_model.transform(train_data_processed)\n",
        "\n",
        "    # Calcular WCSS\n",
        "    wcss = kmeans_model.summary.trainingCost\n",
        "    wcss_scores.append(wcss)\n",
        "\n",
        "    # Calcular Coeficiente de Silhouette\n",
        "    evaluator_silhouette = ClusteringEvaluator(\n",
        "        featuresCol=\"features_final\",\n",
        "        predictionCol=\"prediction\",\n",
        "        metricName=\"silhouette\"\n",
        "    )\n",
        "    silhouette_score = evaluator_silhouette.evaluate(predictions_clustering)\n",
        "    silhouette_scores.append(silhouette_score)\n",
        "\n",
        "    print(f\"K={k}, WCSS: {wcss}, Silhouette Score: {silhouette_score}\")\n",
        "\n",
        "# Graficar WCSS para el método del codo\n",
        "plt.plot(k_values, wcss_scores, marker='o')\n",
        "plt.xlabel(\"Número de Clusters (K)\")\n",
        "plt.ylabel(\"WCSS\")\n",
        "plt.title(\"Método del Codo para determinar K óptimo\")\n",
        "plt.show()\n",
        "\n",
        "# Graficar Silhouette Scores\n",
        "plt.plot(k_values, silhouette_scores, marker='o')\n",
        "plt.xlabel(\"Número de Clusters (K)\")\n",
        "plt.ylabel(\"Silhouette Score\")\n",
        "plt.title(\"Silhouette Score para determinar K óptimo\")\n",
        "plt.show()"
      ],
      "cell_type": "code",
      "metadata": {
        "id": "tQh0LdPeoYdG",
        "colab": {
          "base_uri": "https://localhost:8080/",
          "height": 408
        },
        "outputId": "8b986808-3a13-4c87-9e0d-b344cd85a15b"
      },
      "id": "tQh0LdPeoYdG",
      "execution_count": 48,
      "outputs": [
        {
          "output_type": "stream",
          "name": "stdout",
          "text": [
            "K=4, WCSS: 6339420.795419271, Silhouette Score: 0.3079882550966626\n",
            "K=5, WCSS: 6079070.240929412, Silhouette Score: 0.39553290618809117\n",
            "K=6, WCSS: 5226608.105524405, Silhouette Score: 0.4299405291757521\n"
          ]
        },
        {
          "output_type": "error",
          "ename": "KeyboardInterrupt",
          "evalue": "",
          "traceback": [
            "\u001b[0;31m---------------------------------------------------------------------------\u001b[0m",
            "\u001b[0;31mKeyboardInterrupt\u001b[0m                         Traceback (most recent call last)",
            "\u001b[0;32m<ipython-input-48-f2012d81d8d2>\u001b[0m in \u001b[0;36m<cell line: 0>\u001b[0;34m()\u001b[0m\n\u001b[1;32m      8\u001b[0m \u001b[0;32mfor\u001b[0m \u001b[0mk\u001b[0m \u001b[0;32min\u001b[0m \u001b[0mk_values\u001b[0m\u001b[0;34m:\u001b[0m\u001b[0;34m\u001b[0m\u001b[0;34m\u001b[0m\u001b[0m\n\u001b[1;32m      9\u001b[0m     \u001b[0mkmeans\u001b[0m \u001b[0;34m=\u001b[0m \u001b[0mKMeans\u001b[0m\u001b[0;34m(\u001b[0m\u001b[0;34m)\u001b[0m\u001b[0;34m.\u001b[0m\u001b[0msetK\u001b[0m\u001b[0;34m(\u001b[0m\u001b[0mk\u001b[0m\u001b[0;34m)\u001b[0m\u001b[0;34m.\u001b[0m\u001b[0msetSeed\u001b[0m\u001b[0;34m(\u001b[0m\u001b[0;36m1\u001b[0m\u001b[0;34m)\u001b[0m\u001b[0;34m.\u001b[0m\u001b[0msetFeaturesCol\u001b[0m\u001b[0;34m(\u001b[0m\u001b[0;34m\"features_final\"\u001b[0m\u001b[0;34m)\u001b[0m\u001b[0;34m\u001b[0m\u001b[0;34m\u001b[0m\u001b[0m\n\u001b[0;32m---> 10\u001b[0;31m     \u001b[0mkmeans_model\u001b[0m \u001b[0;34m=\u001b[0m \u001b[0mkmeans\u001b[0m\u001b[0;34m.\u001b[0m\u001b[0mfit\u001b[0m\u001b[0;34m(\u001b[0m\u001b[0mtrain_data_processed\u001b[0m\u001b[0;34m)\u001b[0m\u001b[0;34m\u001b[0m\u001b[0;34m\u001b[0m\u001b[0m\n\u001b[0m\u001b[1;32m     11\u001b[0m     \u001b[0mpredictions_clustering\u001b[0m \u001b[0;34m=\u001b[0m \u001b[0mkmeans_model\u001b[0m\u001b[0;34m.\u001b[0m\u001b[0mtransform\u001b[0m\u001b[0;34m(\u001b[0m\u001b[0mtrain_data_processed\u001b[0m\u001b[0;34m)\u001b[0m\u001b[0;34m\u001b[0m\u001b[0;34m\u001b[0m\u001b[0m\n\u001b[1;32m     12\u001b[0m \u001b[0;34m\u001b[0m\u001b[0m\n",
            "\u001b[0;32m/content/spark-3.1.1-bin-hadoop3.2/python/pyspark/ml/base.py\u001b[0m in \u001b[0;36mfit\u001b[0;34m(self, dataset, params)\u001b[0m\n\u001b[1;32m    159\u001b[0m                 \u001b[0;32mreturn\u001b[0m \u001b[0mself\u001b[0m\u001b[0;34m.\u001b[0m\u001b[0mcopy\u001b[0m\u001b[0;34m(\u001b[0m\u001b[0mparams\u001b[0m\u001b[0;34m)\u001b[0m\u001b[0;34m.\u001b[0m\u001b[0m_fit\u001b[0m\u001b[0;34m(\u001b[0m\u001b[0mdataset\u001b[0m\u001b[0;34m)\u001b[0m\u001b[0;34m\u001b[0m\u001b[0;34m\u001b[0m\u001b[0m\n\u001b[1;32m    160\u001b[0m             \u001b[0;32melse\u001b[0m\u001b[0;34m:\u001b[0m\u001b[0;34m\u001b[0m\u001b[0;34m\u001b[0m\u001b[0m\n\u001b[0;32m--> 161\u001b[0;31m                 \u001b[0;32mreturn\u001b[0m \u001b[0mself\u001b[0m\u001b[0;34m.\u001b[0m\u001b[0m_fit\u001b[0m\u001b[0;34m(\u001b[0m\u001b[0mdataset\u001b[0m\u001b[0;34m)\u001b[0m\u001b[0;34m\u001b[0m\u001b[0;34m\u001b[0m\u001b[0m\n\u001b[0m\u001b[1;32m    162\u001b[0m         \u001b[0;32melse\u001b[0m\u001b[0;34m:\u001b[0m\u001b[0;34m\u001b[0m\u001b[0;34m\u001b[0m\u001b[0m\n\u001b[1;32m    163\u001b[0m             raise ValueError(\"Params must be either a param map or a list/tuple of param maps, \"\n",
            "\u001b[0;32m/content/spark-3.1.1-bin-hadoop3.2/python/pyspark/ml/wrapper.py\u001b[0m in \u001b[0;36m_fit\u001b[0;34m(self, dataset)\u001b[0m\n\u001b[1;32m    333\u001b[0m \u001b[0;34m\u001b[0m\u001b[0m\n\u001b[1;32m    334\u001b[0m     \u001b[0;32mdef\u001b[0m \u001b[0m_fit\u001b[0m\u001b[0;34m(\u001b[0m\u001b[0mself\u001b[0m\u001b[0;34m,\u001b[0m \u001b[0mdataset\u001b[0m\u001b[0;34m)\u001b[0m\u001b[0;34m:\u001b[0m\u001b[0;34m\u001b[0m\u001b[0;34m\u001b[0m\u001b[0m\n\u001b[0;32m--> 335\u001b[0;31m         \u001b[0mjava_model\u001b[0m \u001b[0;34m=\u001b[0m \u001b[0mself\u001b[0m\u001b[0;34m.\u001b[0m\u001b[0m_fit_java\u001b[0m\u001b[0;34m(\u001b[0m\u001b[0mdataset\u001b[0m\u001b[0;34m)\u001b[0m\u001b[0;34m\u001b[0m\u001b[0;34m\u001b[0m\u001b[0m\n\u001b[0m\u001b[1;32m    336\u001b[0m         \u001b[0mmodel\u001b[0m \u001b[0;34m=\u001b[0m \u001b[0mself\u001b[0m\u001b[0;34m.\u001b[0m\u001b[0m_create_model\u001b[0m\u001b[0;34m(\u001b[0m\u001b[0mjava_model\u001b[0m\u001b[0;34m)\u001b[0m\u001b[0;34m\u001b[0m\u001b[0;34m\u001b[0m\u001b[0m\n\u001b[1;32m    337\u001b[0m         \u001b[0;32mreturn\u001b[0m \u001b[0mself\u001b[0m\u001b[0;34m.\u001b[0m\u001b[0m_copyValues\u001b[0m\u001b[0;34m(\u001b[0m\u001b[0mmodel\u001b[0m\u001b[0;34m)\u001b[0m\u001b[0;34m\u001b[0m\u001b[0;34m\u001b[0m\u001b[0m\n",
            "\u001b[0;32m/content/spark-3.1.1-bin-hadoop3.2/python/pyspark/ml/wrapper.py\u001b[0m in \u001b[0;36m_fit_java\u001b[0;34m(self, dataset)\u001b[0m\n\u001b[1;32m    330\u001b[0m         \"\"\"\n\u001b[1;32m    331\u001b[0m         \u001b[0mself\u001b[0m\u001b[0;34m.\u001b[0m\u001b[0m_transfer_params_to_java\u001b[0m\u001b[0;34m(\u001b[0m\u001b[0;34m)\u001b[0m\u001b[0;34m\u001b[0m\u001b[0;34m\u001b[0m\u001b[0m\n\u001b[0;32m--> 332\u001b[0;31m         \u001b[0;32mreturn\u001b[0m \u001b[0mself\u001b[0m\u001b[0;34m.\u001b[0m\u001b[0m_java_obj\u001b[0m\u001b[0;34m.\u001b[0m\u001b[0mfit\u001b[0m\u001b[0;34m(\u001b[0m\u001b[0mdataset\u001b[0m\u001b[0;34m.\u001b[0m\u001b[0m_jdf\u001b[0m\u001b[0;34m)\u001b[0m\u001b[0;34m\u001b[0m\u001b[0;34m\u001b[0m\u001b[0m\n\u001b[0m\u001b[1;32m    333\u001b[0m \u001b[0;34m\u001b[0m\u001b[0m\n\u001b[1;32m    334\u001b[0m     \u001b[0;32mdef\u001b[0m \u001b[0m_fit\u001b[0m\u001b[0;34m(\u001b[0m\u001b[0mself\u001b[0m\u001b[0;34m,\u001b[0m \u001b[0mdataset\u001b[0m\u001b[0;34m)\u001b[0m\u001b[0;34m:\u001b[0m\u001b[0;34m\u001b[0m\u001b[0;34m\u001b[0m\u001b[0m\n",
            "\u001b[0;32m/content/spark-3.1.1-bin-hadoop3.2/python/lib/py4j-0.10.9-src.zip/py4j/java_gateway.py\u001b[0m in \u001b[0;36m__call__\u001b[0;34m(self, *args)\u001b[0m\n\u001b[1;32m   1301\u001b[0m             \u001b[0mproto\u001b[0m\u001b[0;34m.\u001b[0m\u001b[0mEND_COMMAND_PART\u001b[0m\u001b[0;34m\u001b[0m\u001b[0;34m\u001b[0m\u001b[0m\n\u001b[1;32m   1302\u001b[0m \u001b[0;34m\u001b[0m\u001b[0m\n\u001b[0;32m-> 1303\u001b[0;31m         \u001b[0manswer\u001b[0m \u001b[0;34m=\u001b[0m \u001b[0mself\u001b[0m\u001b[0;34m.\u001b[0m\u001b[0mgateway_client\u001b[0m\u001b[0;34m.\u001b[0m\u001b[0msend_command\u001b[0m\u001b[0;34m(\u001b[0m\u001b[0mcommand\u001b[0m\u001b[0;34m)\u001b[0m\u001b[0;34m\u001b[0m\u001b[0;34m\u001b[0m\u001b[0m\n\u001b[0m\u001b[1;32m   1304\u001b[0m         return_value = get_return_value(\n\u001b[1;32m   1305\u001b[0m             answer, self.gateway_client, self.target_id, self.name)\n",
            "\u001b[0;32m/content/spark-3.1.1-bin-hadoop3.2/python/lib/py4j-0.10.9-src.zip/py4j/java_gateway.py\u001b[0m in \u001b[0;36msend_command\u001b[0;34m(self, command, retry, binary)\u001b[0m\n\u001b[1;32m   1031\u001b[0m         \u001b[0mconnection\u001b[0m \u001b[0;34m=\u001b[0m \u001b[0mself\u001b[0m\u001b[0;34m.\u001b[0m\u001b[0m_get_connection\u001b[0m\u001b[0;34m(\u001b[0m\u001b[0;34m)\u001b[0m\u001b[0;34m\u001b[0m\u001b[0;34m\u001b[0m\u001b[0m\n\u001b[1;32m   1032\u001b[0m         \u001b[0;32mtry\u001b[0m\u001b[0;34m:\u001b[0m\u001b[0;34m\u001b[0m\u001b[0;34m\u001b[0m\u001b[0m\n\u001b[0;32m-> 1033\u001b[0;31m             \u001b[0mresponse\u001b[0m \u001b[0;34m=\u001b[0m \u001b[0mconnection\u001b[0m\u001b[0;34m.\u001b[0m\u001b[0msend_command\u001b[0m\u001b[0;34m(\u001b[0m\u001b[0mcommand\u001b[0m\u001b[0;34m)\u001b[0m\u001b[0;34m\u001b[0m\u001b[0;34m\u001b[0m\u001b[0m\n\u001b[0m\u001b[1;32m   1034\u001b[0m             \u001b[0;32mif\u001b[0m \u001b[0mbinary\u001b[0m\u001b[0;34m:\u001b[0m\u001b[0;34m\u001b[0m\u001b[0;34m\u001b[0m\u001b[0m\n\u001b[1;32m   1035\u001b[0m                 \u001b[0;32mreturn\u001b[0m \u001b[0mresponse\u001b[0m\u001b[0;34m,\u001b[0m \u001b[0mself\u001b[0m\u001b[0;34m.\u001b[0m\u001b[0m_create_connection_guard\u001b[0m\u001b[0;34m(\u001b[0m\u001b[0mconnection\u001b[0m\u001b[0;34m)\u001b[0m\u001b[0;34m\u001b[0m\u001b[0;34m\u001b[0m\u001b[0m\n",
            "\u001b[0;32m/content/spark-3.1.1-bin-hadoop3.2/python/lib/py4j-0.10.9-src.zip/py4j/java_gateway.py\u001b[0m in \u001b[0;36msend_command\u001b[0;34m(self, command)\u001b[0m\n\u001b[1;32m   1198\u001b[0m \u001b[0;34m\u001b[0m\u001b[0m\n\u001b[1;32m   1199\u001b[0m         \u001b[0;32mtry\u001b[0m\u001b[0;34m:\u001b[0m\u001b[0;34m\u001b[0m\u001b[0;34m\u001b[0m\u001b[0m\n\u001b[0;32m-> 1200\u001b[0;31m             \u001b[0manswer\u001b[0m \u001b[0;34m=\u001b[0m \u001b[0msmart_decode\u001b[0m\u001b[0;34m(\u001b[0m\u001b[0mself\u001b[0m\u001b[0;34m.\u001b[0m\u001b[0mstream\u001b[0m\u001b[0;34m.\u001b[0m\u001b[0mreadline\u001b[0m\u001b[0;34m(\u001b[0m\u001b[0;34m)\u001b[0m\u001b[0;34m[\u001b[0m\u001b[0;34m:\u001b[0m\u001b[0;34m-\u001b[0m\u001b[0;36m1\u001b[0m\u001b[0;34m]\u001b[0m\u001b[0;34m)\u001b[0m\u001b[0;34m\u001b[0m\u001b[0;34m\u001b[0m\u001b[0m\n\u001b[0m\u001b[1;32m   1201\u001b[0m             \u001b[0mlogger\u001b[0m\u001b[0;34m.\u001b[0m\u001b[0mdebug\u001b[0m\u001b[0;34m(\u001b[0m\u001b[0;34m\"Answer received: {0}\"\u001b[0m\u001b[0;34m.\u001b[0m\u001b[0mformat\u001b[0m\u001b[0;34m(\u001b[0m\u001b[0manswer\u001b[0m\u001b[0;34m)\u001b[0m\u001b[0;34m)\u001b[0m\u001b[0;34m\u001b[0m\u001b[0;34m\u001b[0m\u001b[0m\n\u001b[1;32m   1202\u001b[0m             \u001b[0;32mif\u001b[0m \u001b[0manswer\u001b[0m\u001b[0;34m.\u001b[0m\u001b[0mstartswith\u001b[0m\u001b[0;34m(\u001b[0m\u001b[0mproto\u001b[0m\u001b[0;34m.\u001b[0m\u001b[0mRETURN_MESSAGE\u001b[0m\u001b[0;34m)\u001b[0m\u001b[0;34m:\u001b[0m\u001b[0;34m\u001b[0m\u001b[0;34m\u001b[0m\u001b[0m\n",
            "\u001b[0;32m/usr/lib/python3.11/socket.py\u001b[0m in \u001b[0;36mreadinto\u001b[0;34m(self, b)\u001b[0m\n\u001b[1;32m    716\u001b[0m         \u001b[0;32mwhile\u001b[0m \u001b[0;32mTrue\u001b[0m\u001b[0;34m:\u001b[0m\u001b[0;34m\u001b[0m\u001b[0;34m\u001b[0m\u001b[0m\n\u001b[1;32m    717\u001b[0m             \u001b[0;32mtry\u001b[0m\u001b[0;34m:\u001b[0m\u001b[0;34m\u001b[0m\u001b[0;34m\u001b[0m\u001b[0m\n\u001b[0;32m--> 718\u001b[0;31m                 \u001b[0;32mreturn\u001b[0m \u001b[0mself\u001b[0m\u001b[0;34m.\u001b[0m\u001b[0m_sock\u001b[0m\u001b[0;34m.\u001b[0m\u001b[0mrecv_into\u001b[0m\u001b[0;34m(\u001b[0m\u001b[0mb\u001b[0m\u001b[0;34m)\u001b[0m\u001b[0;34m\u001b[0m\u001b[0;34m\u001b[0m\u001b[0m\n\u001b[0m\u001b[1;32m    719\u001b[0m             \u001b[0;32mexcept\u001b[0m \u001b[0mtimeout\u001b[0m\u001b[0;34m:\u001b[0m\u001b[0;34m\u001b[0m\u001b[0;34m\u001b[0m\u001b[0m\n\u001b[1;32m    720\u001b[0m                 \u001b[0mself\u001b[0m\u001b[0;34m.\u001b[0m\u001b[0m_timeout_occurred\u001b[0m \u001b[0;34m=\u001b[0m \u001b[0;32mTrue\u001b[0m\u001b[0;34m\u001b[0m\u001b[0;34m\u001b[0m\u001b[0m\n",
            "\u001b[0;31mKeyboardInterrupt\u001b[0m: "
          ]
        }
      ]
    },
    {
      "cell_type": "code",
      "source": [
        "# Imprimiendo la curva ROC\n",
        "import matplotlib.pyplot as plt\n",
        "\n",
        "trainingSummary = lr_model.summary\n",
        "lrROC = trainingSummary.roc.toPandas()\n",
        "\n",
        "plt.plot(lrROC['FPR'],lrROC['TPR'])\n",
        "plt.ylabel('False Positive Rate')\n",
        "plt.xlabel('True Positive Rate')\n",
        "plt.title('ROC Curve')\n",
        "plt.show()\n",
        "\n",
        "print('Training set areaUnderROC: ' + str(trainingSummary.areaUnderROC))"
      ],
      "metadata": {
        "id": "xJgSeGHsHHd9",
        "colab": {
          "base_uri": "https://localhost:8080/",
          "height": 489
        },
        "outputId": "fc9dbfe8-f22b-417f-d041-01fca4644b5c"
      },
      "id": "xJgSeGHsHHd9",
      "execution_count": 22,
      "outputs": [
        {
          "output_type": "display_data",
          "data": {
            "text/plain": [
              "<Figure size 640x480 with 1 Axes>"
            ],
            "image/png": "[encoded data removed]"
          },
          "metadata": {}
        },
        {
          "output_type": "stream",
          "name": "stdout",
          "text": [
            "Training set areaUnderROC: 0.829868090276063\n"
          ]
        }
      ]
    },
    {
      "cell_type": "code",
      "source": [
        "# Imprimiendo la curva entre Precision y Recall\n",
        "\n",
        "pr = trainingSummary.pr.toPandas()\n",
        "plt.plot(pr['recall'],pr['precision'])\n",
        "plt.ylabel('Precision')\n",
        "plt.xlabel('Recall')\n",
        "plt.show()"
      ],
      "metadata": {
        "id": "WR0ifoCQHFqm",
        "colab": {
          "base_uri": "https://localhost:8080/",
          "height": 449
        },
        "outputId": "562cd8f7-7bdd-41d7-876c-0c3b69ab49af"
      },
      "id": "WR0ifoCQHFqm",
      "execution_count": 23,
      "outputs": [
        {
          "output_type": "display_data",
          "data": {
            "text/plain": [
              "<Figure size 640x480 with 1 Axes>"
            ],
            "image/png": "[encoded data removed]"
          },
          "metadata": {}
        }
      ]
    },
    {
      "cell_type": "markdown",
      "source": [
        "# **5. Análisis de resultados**"
      ],
      "metadata": {
        "id": "ubBdn5J317sH"
      },
      "id": "ubBdn5J317sH"
    },
    {
      "cell_type": "markdown",
      "source": [
        "Las métricas del F1-Score y Recall salieron muy altas, lo que podría indicar sobreentrenamiento en el modelo ya que tenemos datos desbalanceados en la variable objetivo (\"Is Laundering\").\n",
        "\n",
        "El área bajo la curva PR es demasiado bajo, lo que nos indica que el modelo tiene un rendimiento casi nulo para identificar las transacciones de lavado de dinero."
      ],
      "metadata": {
        "id": "6ye5sE-KOItl"
      },
      "id": "6ye5sE-KOItl"
    },
    {
      "cell_type": "markdown",
      "source": [
        "La métrica de WCSS nos ayuda a analizar la distancia de los centros de los clústeres para identificar la cantidad de clústers \"K\" óptima para nuestro modelo. Se pueden ir aumentando la cantidad de K y revisando contra el valor de WCSS hasta que la diferencia entre agregar un clúster o no sea mínima.\n",
        "\n",
        "La métrica de Silhouette 0.4299 nos indica que el clustering podría no ser muy robusto, ya sea porque las agrupaciones de datos están muy cerca unos de otros o que el conjunto de datos en general no se preste a utilizar este tipo de algoritmos. Se encontró que K = 7 da un mejor resultado.\n",
        "Lo ideal es que el valor de la métrica se encuentre entre 0.7 y 1.\n"
      ],
      "metadata": {
        "id": "FxPzhIxcMsVP"
      },
      "id": "FxPzhIxcMsVP"
    }
  ],
  "metadata": {
    "kernelspec": {
      "display_name": "env_pyspark",
      "language": "python",
      "name": "env_pyspark"
    },
    "language_info": {
      "codemirror_mode": {
        "name": "ipython",
        "version": 3
      },
      "file_extension": ".py",
      "mimetype": "text/x-python",
      "name": "python",
      "nbconvert_exporter": "python",
      "pygments_lexer": "ipython3",
      "version": "3.12.2"
    },
    "colab": {
      "provenance": []
    }
  },
  "nbformat": 4,
  "nbformat_minor": 5
}